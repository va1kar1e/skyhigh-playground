{
 "cells": [
  {
   "cell_type": "code",
   "execution_count": null,
   "metadata": {},
   "outputs": [],
   "source": [
    "import os, json\n",
    "import requests\n",
    "from requests.auth import HTTPDigestAuth\n",
    "import base64\n",
    "import pandas as pd\n",
    "from dotenv import load_dotenv\n",
    "load_dotenv()"
   ]
  },
  {
   "cell_type": "code",
   "execution_count": null,
   "metadata": {},
   "outputs": [],
   "source": [
    "BASE_URL = os.getenv(\"MYSHYN_URL\")\n",
    "LOGIN_URL = os.getenv(\"MYSHYN_LOGIN_URL\")\n",
    "\n",
    "TENANT_ID = os.getenv(\"MYSHYN_TENANT_ID\")\n",
    "\n",
    "USERNAME = os.getenv(\"MYSHYN_USERNAME\")\n",
    "PASSWORD = os.getenv(\"MYSHYN_PASSWORD\")\n",
    "\n",
    "CREDENTIAL = \"Basic \" + base64.b64encode((USERNAME + \":\" + PASSWORD).encode(\"ascii\")).decode(\"utf-8\")"
   ]
  },
  {
   "cell_type": "code",
   "execution_count": null,
   "metadata": {
    "scrolled": true
   },
   "outputs": [],
   "source": [
    "HEADER = {\n",
    "    'BPS-TENANT-ID': TENANT_ID,\n",
    "    \n",
    "}\n",
    "\n",
    "#   'Content-Type': 'application/json',\n",
    "#   'Accept': 'application/json'\n",
    "#   'Authorization': CREDENTIAL\n",
    "#     \n",
    "HEADER"
   ]
  },
  {
   "cell_type": "code",
   "execution_count": null,
   "metadata": {},
   "outputs": [],
   "source": [
    "url = BASE_URL + '/shnapi/rest/external/api/v1/token?grant_type=password&token_type=iam'\n",
    "print(\"URL  : \" + url)"
   ]
  },
  {
   "cell_type": "code",
   "execution_count": null,
   "metadata": {},
   "outputs": [],
   "source": [
    "# body = {}\n",
    "\n",
    "r = requests.post(url, headers=HEADER, auth=HTTPDigestAuth(USERNAME, PASSWORD))\n",
    "\n",
    "# params={}, data=json.dumps(body).encode(\"utf-8\"), \n",
    "r.text"
   ]
  },
  {
   "cell_type": "code",
   "execution_count": null,
   "metadata": {},
   "outputs": [],
   "source": []
  },
  {
   "cell_type": "code",
   "execution_count": null,
   "metadata": {},
   "outputs": [],
   "source": []
  }
 ],
 "metadata": {
  "kernelspec": {
   "display_name": "Python 3",
   "language": "python",
   "name": "python3"
  },
  "language_info": {
   "codemirror_mode": {
    "name": "ipython",
    "version": 3
   },
   "file_extension": ".py",
   "mimetype": "text/x-python",
   "name": "python",
   "nbconvert_exporter": "python",
   "pygments_lexer": "ipython3",
   "version": "3.8.3"
  }
 },
 "nbformat": 4,
 "nbformat_minor": 4
}
