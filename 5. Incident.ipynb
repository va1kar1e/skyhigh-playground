{
 "cells": [
  {
   "cell_type": "code",
   "execution_count": null,
   "metadata": {},
   "outputs": [],
   "source": [
    "import os, json\n",
    "import requests\n",
    "import pandas as pd\n",
    "import time, datetime\n",
    "import pprint as pp\n",
    "from dotenv import load_dotenv\n",
    "load_dotenv()"
   ]
  },
  {
   "cell_type": "code",
   "execution_count": null,
   "metadata": {},
   "outputs": [],
   "source": [
    "BASE_URL = os.getenv(\"MYSHYN_URL\")\n",
    "\n",
    "TENANT_ID = os.getenv(\"MYSHYN_TENANT_ID\")\n",
    "\n",
    "USERNAME = os.getenv(\"MYSHYN_USERNAME\")\n",
    "PASSWORD = os.getenv(\"MYSHYN_PASSWORD\")\n",
    "\n",
    "PROXIES = {\n",
    "    \"https\" : os.getenv(\"PROXIES_HTTPS\")\n",
    "}"
   ]
  },
  {
   "cell_type": "code",
   "execution_count": null,
   "metadata": {},
   "outputs": [],
   "source": [
    "HEADER = {\n",
    "    'Content-Type': 'application/json'\n",
    "}"
   ]
  },
  {
   "cell_type": "code",
   "execution_count": null,
   "metadata": {},
   "outputs": [],
   "source": [
    "def generateDateAndLast7day(date: None):\n",
    "    # Get date\n",
    "    selectedTime = datetime.datetime.strptime(date, '%d/%m/%y')\n",
    "    last7dayTime = selectedTime - datetime.timedelta(days=6)\n",
    "    \n",
    "    # Convert date to timestamp\n",
    "    selectedTime = selectedTime.strftime('%Y-%m-%dT23:59:00')\n",
    "    last7dayTime = last7dayTime.strftime('%Y-%m-%dT00:00:00')\n",
    "\n",
    "    # Convert timestamp to date\n",
    "    # nowTime = datetime.datetime.fromtimestamp(nowTime)\n",
    "    # last7dayTime = datetime.datetime.fromtimestamp(last7dayTime)\n",
    "    \n",
    "    return last7dayTime, selectedTime"
   ]
  },
  {
   "cell_type": "code",
   "execution_count": null,
   "metadata": {},
   "outputs": [],
   "source": [
    "last7dayTime, selectedTime = generateDateAndLast7day(date='21/02/23')\n",
    "last7dayTime, selectedTime"
   ]
  },
  {
   "cell_type": "markdown",
   "metadata": {},
   "source": [
    "## 1. Query User Acitivity"
   ]
  },
  {
   "cell_type": "markdown",
   "metadata": {},
   "source": [
    "```\n",
    "maximum log : 500\n",
    "```"
   ]
  },
  {
   "cell_type": "code",
   "execution_count": null,
   "metadata": {},
   "outputs": [],
   "source": [
    "def getUserActivity(startTime=\"\", serviceNames=[]):\n",
    "    url = BASE_URL + '/shnapi/rest/external/api/v1/queryIncidents?limit=500'\n",
    "    print(\"URL  : \" + url)\n",
    "\n",
    "    BODY =  { \n",
    "        \"startTime\": startTime,\n",
    "        \"serviceNames\": serviceNames,\n",
    "#         \"incidentCriteria\": { \n",
    "#             \"categories\": [ \n",
    "#                 {\n",
    "#                     \"incidentType\":\"Threat\"\n",
    "#                 }\n",
    "#             ] \n",
    "#         } \n",
    "    } \n",
    "    \n",
    "    allresult = []\n",
    "\n",
    "    while True:\n",
    "        r = requests.post(url, headers=HEADER, data=json.dumps(BODY).encode(\"utf-8\"), auth=(USERNAME,PASSWORD), proxies=PROXIES, verify=False)\n",
    "        print(r.status_code)\n",
    "\n",
    "        res = r.json()[\"body\"]\n",
    "\n",
    "        allresult += res[\"incidents\"]\n",
    "        \n",
    "        if res[\"responseInfo\"][\"nextStartTime\"] != None and res[\"incidents\"] != []:\n",
    "            BODY[\"startTime\"] = res[\"responseInfo\"][\"nextStartTime\"]\n",
    "            print(BODY[\"startTime\"])\n",
    "        else:\n",
    "            print(res[\"responseInfo\"][\"nextStartTime\"])\n",
    "            return allresult"
   ]
  },
  {
   "cell_type": "code",
   "execution_count": null,
   "metadata": {},
   "outputs": [],
   "source": [
    "startTime = selectedTime\n",
    "serviceNames = [\"sharepoint\"] # ,\"onedrive\",\"exchange\""
   ]
  },
  {
   "cell_type": "code",
   "execution_count": null,
   "metadata": {},
   "outputs": [],
   "source": [
    "allUserAcitivities = getUserActivity(startTime=startTime, serviceNames=serviceNames)"
   ]
  },
  {
   "cell_type": "code",
   "execution_count": null,
   "metadata": {},
   "outputs": [],
   "source": [
    "allUserAcitivities_df = pd.DataFrame(allUserAcitivities)\n",
    "allUserAcitivities_df"
   ]
  },
  {
   "cell_type": "code",
   "execution_count": null,
   "metadata": {},
   "outputs": [],
   "source": []
  },
  {
   "cell_type": "markdown",
   "metadata": {},
   "source": [
    "## 2. Query Incident Information Keys"
   ]
  },
  {
   "cell_type": "code",
   "execution_count": null,
   "metadata": {},
   "outputs": [],
   "source": [
    "url = BASE_URL + '/shnapi/rest/external/api/v1/queryIncidentInformationKeys'\n",
    "print(\"URL  : \" + url)\n",
    "\n",
    "r = requests.post(url, headers=HEADER, params={}, data={}, auth=(USERNAME,PASSWORD), proxies=PROXIES, verify=False)\n",
    "r.status_code, r.text"
   ]
  },
  {
   "cell_type": "code",
   "execution_count": null,
   "metadata": {},
   "outputs": [],
   "source": [
    "r.json()"
   ]
  },
  {
   "cell_type": "code",
   "execution_count": null,
   "metadata": {},
   "outputs": [],
   "source": []
  },
  {
   "cell_type": "code",
   "execution_count": null,
   "metadata": {},
   "outputs": [],
   "source": []
  },
  {
   "cell_type": "code",
   "execution_count": null,
   "metadata": {},
   "outputs": [],
   "source": []
  }
 ],
 "metadata": {
  "kernelspec": {
   "display_name": "Python 3",
   "language": "python",
   "name": "python3"
  },
  "language_info": {
   "codemirror_mode": {
    "name": "ipython",
    "version": 3
   },
   "file_extension": ".py",
   "mimetype": "text/x-python",
   "name": "python",
   "nbconvert_exporter": "python",
   "pygments_lexer": "ipython3",
   "version": "3.8.8"
  }
 },
 "nbformat": 4,
 "nbformat_minor": 4
}
