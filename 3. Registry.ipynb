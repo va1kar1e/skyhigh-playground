{
 "cells": [
  {
   "cell_type": "code",
   "execution_count": null,
   "metadata": {},
   "outputs": [],
   "source": [
    "import os, json\n",
    "import requests\n",
    "import pandas as pd\n",
    "import pprint as pp\n",
    "from dotenv import load_dotenv\n",
    "load_dotenv()"
   ]
  },
  {
   "cell_type": "code",
   "execution_count": null,
   "metadata": {},
   "outputs": [],
   "source": [
    "BASE_URL = os.getenv(\"MYSHYN_URL\")\n",
    "\n",
    "TENANT_ID = os.getenv(\"MYSHYN_TENANT_ID\")\n",
    "\n",
    "USERNAME = os.getenv(\"MYSHYN_USERNAME\")\n",
    "PASSWORD = os.getenv(\"MYSHYN_PASSWORD\")\n",
    "\n",
    "PROXIES = {\n",
    "    \"https\" : os.getenv(\"PROXIES_HTTPS\")\n",
    "}"
   ]
  },
  {
   "cell_type": "code",
   "execution_count": null,
   "metadata": {},
   "outputs": [],
   "source": [
    "HEADER = {\n",
    "    'Content-Type': 'application/json'\n",
    "}"
   ]
  },
  {
   "cell_type": "markdown",
   "metadata": {},
   "source": [
    "## 1. Check Request Quota"
   ]
  },
  {
   "cell_type": "code",
   "execution_count": null,
   "metadata": {},
   "outputs": [],
   "source": [
    "def checkQuota():\n",
    "    url = BASE_URL + '/shnapi/rest/clientapi/csp/quota'\n",
    "    print(\"URL  : \" + url)\n",
    "    \n",
    "    BODY = {\n",
    "        \"apikey\" : REGISTRY_API_KEY,\n",
    "    }\n",
    "    \n",
    "    r = requests.post(url, headers=HEADER, params={}, data=json.dumps(BODY).encode(\"utf-8\"), auth=(USERNAME,PASSWORD), proxies=PROXIES, verify=False)\n",
    "    print(r.status_code)\n",
    "    return r.json()"
   ]
  },
  {
   "cell_type": "code",
   "execution_count": null,
   "metadata": {},
   "outputs": [],
   "source": [
    "checkQuota()"
   ]
  },
  {
   "cell_type": "markdown",
   "metadata": {},
   "source": [
    "```\n",
    "Default Value\n",
    "{\n",
    "    'requeststatus': 'success',\n",
    "    'message': '',\n",
    "    'quota': {\n",
    "        'servicesperweek': 150,\n",
    "        'servicesperday': 15,\n",
    "        'totalservices': 500,\n",
    "        'category': True,\n",
    "        'overallriskscore': True,\n",
    "        'groupriskscore': True,\n",
    "        'attributemetadata': True,\n",
    "        'allattributesallowed': True,\n",
    "        'attributesallowed': []\n",
    "    },\n",
    "    'noofservicestoday': 3,\n",
    "    'noofservicesthisweek': 3,\n",
    "    'noofservicesinttotal': 3\n",
    "}\n",
    "```"
   ]
  },
  {
   "cell_type": "markdown",
   "metadata": {},
   "source": [
    "## 2. Search CSP"
   ]
  },
  {
   "cell_type": "code",
   "execution_count": null,
   "metadata": {},
   "outputs": [],
   "source": [
    "def searchCSP(criteria=[]):\n",
    "    url = BASE_URL + '/shnapi/rest/clientapi/csp/search'\n",
    "    print(\"URL  : \" + url)\n",
    "    \n",
    "    BODY = {\n",
    "        \"apikey\" : REGISTRY_API_KEY,\n",
    "        \"searchparams\" : criteria\n",
    "    }\n",
    "    \n",
    "    r = requests.post(url, headers=HEADER, params={}, data=json.dumps(BODY).encode(\"utf-8\"), auth=(USERNAME,PASSWORD), proxies=PROXIES, verify=False)\n",
    "    print(r.status_code)\n",
    "    return r.json()"
   ]
  },
  {
   "cell_type": "code",
   "execution_count": null,
   "metadata": {},
   "outputs": [],
   "source": [
    "\"searchparams\" : [\n",
    "    {\n",
    "        \"param\":\"servicecategory\", \n",
    "        \"searchkey\": \"Collaboration\", \n",
    "        \"operator\":\"like\"\n",
    "    }, \n",
    "    {\n",
    "        \"param\":\"servicesubcategory\", \n",
    "        \"searchkey\": \"Web Mail\",\n",
    "        \"operator\":\"like\"\n",
    "    },\n",
    "    {\n",
    "        \"param\":\"riskscore\",\n",
    "        \"searchkey\": \"6\",\n",
    "        \"operator\":\">=\"\n",
    "    }\n",
    "]"
   ]
  },
  {
   "cell_type": "code",
   "execution_count": null,
   "metadata": {},
   "outputs": [],
   "source": [
    "searchCSP(criteria=searchparams)"
   ]
  },
  {
   "cell_type": "markdown",
   "metadata": {},
   "source": [
    "## 3. Get Multiple CSP Information By CSP Ids"
   ]
  },
  {
   "cell_type": "code",
   "execution_count": null,
   "metadata": {},
   "outputs": [],
   "source": [
    "def getmultipleCSPInfoByCSPIds(serviceIds=[]):\n",
    "    url = BASE_URL + '/shnapi/rest/clientapi/csp/bulk'\n",
    "    # Caution : API Path has quota about 15 request per day.\n",
    "    \n",
    "    print(\"URL  : \" + url)\n",
    "    \n",
    "    BODY = {\n",
    "        \"apikey\" : REGISTRY_API_KEY,\n",
    "        \"serviceids\" : serviceIds,\n",
    "        \"queryby\":\"serviceid\",\n",
    "        \"attributemetadata\":\"true\"\n",
    "    }\n",
    "    \n",
    "    r = requests.post(url, headers=HEADER, params={}, data=json.dumps(BODY).encode(\"utf-8\"), auth=(USERNAME,PASSWORD), proxies=PROXIES, verify=False)\n",
    "    if(r.status_code==200 and r.json()[\"responsecode\"]==\"Reg-200\"):\n",
    "        return r.json()\n",
    "    else:\n",
    "        print(r.status_code)\n",
    "        print(r.json())"
   ]
  },
  {
   "cell_type": "code",
   "execution_count": null,
   "metadata": {},
   "outputs": [],
   "source": [
    "serviceIds = [1234,5678]"
   ]
  },
  {
   "cell_type": "code",
   "execution_count": null,
   "metadata": {},
   "outputs": [],
   "source": [
    "CSPInfos = getmultipleCSPInfoByCSPIds(serviceIds=serviceIds)\n",
    "CSPInfos"
   ]
  },
  {
   "cell_type": "markdown",
   "metadata": {},
   "source": []
  },
  {
   "cell_type": "code",
   "execution_count": null,
   "metadata": {},
   "outputs": [],
   "source": []
  },
  {
   "cell_type": "code",
   "execution_count": null,
   "metadata": {},
   "outputs": [],
   "source": []
  }
 ],
 "metadata": {
  "kernelspec": {
   "display_name": "Python 3",
   "language": "python",
   "name": "python3"
  },
  "language_info": {
   "codemirror_mode": {
    "name": "ipython",
    "version": 3
   },
   "file_extension": ".py",
   "mimetype": "text/x-python",
   "name": "python",
   "nbconvert_exporter": "python",
   "pygments_lexer": "ipython3",
   "version": "3.8.8"
  }
 },
 "nbformat": 4,
 "nbformat_minor": 4
}
