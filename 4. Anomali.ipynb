{
 "cells": [
  {
   "cell_type": "code",
   "execution_count": null,
   "metadata": {},
   "outputs": [],
   "source": [
    "import os, json\n",
    "import requests\n",
    "import pandas as pd\n",
    "import pprint as pp\n",
    "from dotenv import load_dotenv\n",
    "load_dotenv()"
   ]
  },
  {
   "cell_type": "code",
   "execution_count": null,
   "metadata": {},
   "outputs": [],
   "source": [
    "BASE_URL = os.getenv(\"MYSHYN_URL\")\n",
    "\n",
    "USERNAME = os.getenv(\"MYSHYN_USERNAME\")\n",
    "PASSWORD = os.getenv(\"MYSHYN_PASSWORD\")"
   ]
  },
  {
   "cell_type": "code",
   "execution_count": null,
   "metadata": {},
   "outputs": [],
   "source": [
    "HEADER = {\n",
    "    'Content-Type': 'application/json'\n",
    "}"
   ]
  },
  {
   "cell_type": "markdown",
   "metadata": {},
   "source": [
    "## 1. Query Anomalies For User"
   ]
  },
  {
   "cell_type": "code",
   "execution_count": null,
   "metadata": {},
   "outputs": [],
   "source": [
    "def queryAnomaliesForUser(eventFilter={}):\n",
    "    url = BASE_URL + '/shnapi/rest/reporting/csv/queryAnomaliesForUser'\n",
    "    print(\"URL  : \" + url)\n",
    "    \n",
    "    BODY = {\n",
    "        \"templateId\" : 10,\n",
    "        \"eventFilter\" : eventFilter\n",
    "    }\n",
    "\n",
    "    r = requests.post(url, headers=HEADER, data=json.dumps(BODY).encode(\"utf-8\"), auth=(USERNAME,PASSWORD), verify=False)\n",
    "    print(r.status_code)\n",
    "    \n",
    "    return r.text"
   ]
  },
  {
   "cell_type": "code",
   "execution_count": null,
   "metadata": {},
   "outputs": [],
   "source": [
    "eventFilter = {\n",
    "    \"serviceidentifiers\": [\"1234\", \"5678\"],\n",
    "    \"from\":last7dayTime,\n",
    "    \"to\":nowTime,\n",
    "}"
   ]
  },
  {
   "cell_type": "code",
   "execution_count": null,
   "metadata": {},
   "outputs": [],
   "source": [
    "result = queryAnomaliesForUser(eventFilter=eventFilter)\n",
    "res = [res.split(\",\") for res in res.text.result('\\n')]\n",
    "res_df = pd.DataFrame(data=res[1:], columns=res[0])"
   ]
  },
  {
   "cell_type": "code",
   "execution_count": null,
   "metadata": {},
   "outputs": [],
   "source": [
    "res_df"
   ]
  },
  {
   "cell_type": "code",
   "execution_count": null,
   "metadata": {},
   "outputs": [],
   "source": []
  },
  {
   "cell_type": "markdown",
   "metadata": {},
   "source": []
  },
  {
   "cell_type": "code",
   "execution_count": null,
   "metadata": {},
   "outputs": [],
   "source": []
  },
  {
   "cell_type": "code",
   "execution_count": null,
   "metadata": {},
   "outputs": [],
   "source": []
  },
  {
   "cell_type": "code",
   "execution_count": null,
   "metadata": {},
   "outputs": [],
   "source": []
  }
 ],
 "metadata": {
  "kernelspec": {
   "display_name": "Python 3",
   "language": "python",
   "name": "python3"
  },
  "language_info": {
   "codemirror_mode": {
    "name": "ipython",
    "version": 3
   },
   "file_extension": ".py",
   "mimetype": "text/x-python",
   "name": "python",
   "nbconvert_exporter": "python",
   "pygments_lexer": "ipython3",
   "version": "3.8.3"
  }
 },
 "nbformat": 4,
 "nbformat_minor": 4
}
