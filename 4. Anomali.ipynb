{
 "cells": [
  {
   "cell_type": "code",
   "execution_count": null,
   "metadata": {},
   "outputs": [],
   "source": [
    "import os, json\n",
    "import requests\n",
    "import pandas as pd\n",
    "import time, datetime\n",
    "import pprint as pp\n",
    "from dotenv import load_dotenv\n",
    "load_dotenv()"
   ]
  },
  {
   "cell_type": "code",
   "execution_count": null,
   "metadata": {},
   "outputs": [],
   "source": [
    "BASE_URL = os.getenv(\"MYSHYN_URL\")\n",
    "\n",
    "TENANT_ID = os.getenv(\"MYSHYN_TENANT_ID\")\n",
    "\n",
    "USERNAME = os.getenv(\"MYSHYN_USERNAME\")\n",
    "PASSWORD = os.getenv(\"MYSHYN_PASSWORD\")\n",
    "\n",
    "PROXIES = {\n",
    "    \"https\" : os.getenv(\"PROXIES_HTTPS\")\n",
    "}"
   ]
  },
  {
   "cell_type": "code",
   "execution_count": null,
   "metadata": {},
   "outputs": [],
   "source": [
    "HEADER = {\n",
    "    'Content-Type': 'application/json'\n",
    "}"
   ]
  },
  {
   "cell_type": "code",
   "execution_count": null,
   "metadata": {},
   "outputs": [],
   "source": [
    "def generateDateAndLast7day(date: None):\n",
    "    # Get date\n",
    "    selectedTime = datetime.datetime.strptime(date, '%d/%m/%y')\n",
    "    last7dayTime = selectedTime - datetime.timedelta(days=6)\n",
    "    \n",
    "    # Convert date to timestamp\n",
    "    selectedTime = selectedTime.strftime('%Y-%m-%dT23:59:00')\n",
    "    last7dayTime = last7dayTime.strftime('%Y-%m-%dT00:00:00')\n",
    "\n",
    "    # Convert timestamp to date\n",
    "    # nowTime = datetime.datetime.fromtimestamp(nowTime)\n",
    "    # last7dayTime = datetime.datetime.fromtimestamp(last7dayTime)\n",
    "    \n",
    "    return last7dayTime, selectedTime"
   ]
  },
  {
   "cell_type": "code",
   "execution_count": null,
   "metadata": {},
   "outputs": [],
   "source": [
    "last7dayTime, selectedTime = generateDateAndLast7day(date='21/02/23')\n",
    "last7dayTime, selectedTime"
   ]
  },
  {
   "cell_type": "markdown",
   "metadata": {},
   "source": [
    "## 1. Query Anomalies For User"
   ]
  },
  {
   "cell_type": "code",
   "execution_count": null,
   "metadata": {},
   "outputs": [],
   "source": [
    "def queryAnomaliesForUser():\n",
    "    url = BASE_URL + '/shnapi/rest/reporting/csv/queryAnomaliesForUser'\n",
    "    print(\"URL  : \" + url)\n",
    "    \n",
    "    BODY = {\n",
    "        \"cspId\":2941, \n",
    "        \"userFilter\":{\n",
    "            \"userId\":2\n",
    "        }\n",
    "    }\n",
    "\n",
    "    r = requests.post(url, headers=HEADER, data=json.dumps(BODY).encode(\"utf-8\"), auth=(USERNAME,PASSWORD), proxies=PROXIES, verify=False)\n",
    "    print(r.status_code)\n",
    "    \n",
    "    return r.text"
   ]
  },
  {
   "cell_type": "code",
   "execution_count": null,
   "metadata": {},
   "outputs": [],
   "source": [
    "result = queryAnomaliesForUser()\n",
    "result"
   ]
  },
  {
   "cell_type": "code",
   "execution_count": null,
   "metadata": {},
   "outputs": [],
   "source": [
    "res_df"
   ]
  },
  {
   "cell_type": "code",
   "execution_count": null,
   "metadata": {},
   "outputs": [],
   "source": []
  },
  {
   "cell_type": "markdown",
   "metadata": {},
   "source": [
    "## 2. Query Anomalies"
   ]
  },
  {
   "cell_type": "code",
   "execution_count": null,
   "metadata": {},
   "outputs": [],
   "source": [
    "def queryAnomalies(eventFilter={}):\n",
    "    url = BASE_URL + '/shnapi/rest/reporting/csv/queryAnomalies'\n",
    "    print(\"URL  : \" + url)\n",
    "    \n",
    "    BODY = {\n",
    "        \"templateId\" : 10,\n",
    "        \"tableVisbilityMap\": {},\n",
    "        \"eventFilter\": {\n",
    "            \"from\":last7dayTime,\n",
    "            \"to\":selectedTime\n",
    "        }\n",
    "    }\n",
    "\n",
    "    r = requests.post(url, headers=HEADER, data=json.dumps(BODY).encode(\"utf-8\"), auth=(USERNAME,PASSWORD), proxies=PROXIES, verify=False)\n",
    "    print(r.status_code)\n",
    "    \n",
    "    return r.text"
   ]
  },
  {
   "cell_type": "code",
   "execution_count": null,
   "metadata": {},
   "outputs": [],
   "source": [
    "data = queryAnomalies()"
   ]
  },
  {
   "cell_type": "code",
   "execution_count": null,
   "metadata": {},
   "outputs": [],
   "source": []
  },
  {
   "cell_type": "markdown",
   "metadata": {},
   "source": []
  },
  {
   "cell_type": "code",
   "execution_count": null,
   "metadata": {},
   "outputs": [],
   "source": []
  }
 ],
 "metadata": {
  "kernelspec": {
   "display_name": "Python 3",
   "language": "python",
   "name": "python3"
  },
  "language_info": {
   "codemirror_mode": {
    "name": "ipython",
    "version": 3
   },
   "file_extension": ".py",
   "mimetype": "text/x-python",
   "name": "python",
   "nbconvert_exporter": "python",
   "pygments_lexer": "ipython3",
   "version": "3.8.8"
  }
 },
 "nbformat": 4,
 "nbformat_minor": 4
}
