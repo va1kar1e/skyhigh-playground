{
 "cells": [
  {
   "cell_type": "code",
   "execution_count": null,
   "metadata": {},
   "outputs": [],
   "source": [
    "import os, json\n",
    "import requests\n",
    "import time, datetime\n",
    "import base64\n",
    "import pandas as pd\n",
    "from IPython.core import display as ICD\n",
    "import pprint as pp\n",
    "from dotenv import load_dotenv\n",
    "load_dotenv()"
   ]
  },
  {
   "cell_type": "code",
   "execution_count": null,
   "metadata": {},
   "outputs": [],
   "source": [
    "BASE_URL = os.getenv(\"MYSHYN_URL\")\n",
    "\n",
    "TENANT_ID = os.getenv(\"MYSHYN_TENANT_ID\")\n",
    "\n",
    "USERNAME = os.getenv(\"MYSHYN_USERNAME\")\n",
    "PASSWORD = os.getenv(\"MYSHYN_PASSWORD\")\n",
    "\n",
    "REGISTRY_API_KEY = os.getenv(\"MYSHYN_REGISTRY_API\")\n",
    "\n",
    "PROXIES = {\n",
    "    \"https\" : os.getenv(\"PROXIES_HTTPS\")\n",
    "}"
   ]
  },
  {
   "cell_type": "code",
   "execution_count": null,
   "metadata": {},
   "outputs": [],
   "source": [
    "HEADER = {\n",
    "    'Content-Type': 'application/json'\n",
    "}"
   ]
  },
  {
   "cell_type": "code",
   "execution_count": null,
   "metadata": {},
   "outputs": [],
   "source": [
    "def generateDateAndLast7day(date: None):\n",
    "    # Get date\n",
    "    selectedTime = datetime.datetime.strptime(date, '%d/%m/%y')\n",
    "    last7dayTime = selectedTime - datetime.timedelta(days=6)\n",
    "    \n",
    "    # Convert date to timestamp\n",
    "    selectedTime = selectedTime.strftime('%Y-%m-%dT23:59:00')\n",
    "    last7dayTime = last7dayTime.strftime('%Y-%m-%dT00:00:00')\n",
    "\n",
    "    # Convert timestamp to date\n",
    "    # nowTime = datetime.datetime.fromtimestamp(nowTime)\n",
    "    # last7dayTime = datetime.datetime.fromtimestamp(last7dayTime)\n",
    "    \n",
    "    return last7dayTime, selectedTime"
   ]
  },
  {
   "cell_type": "code",
   "execution_count": null,
   "metadata": {},
   "outputs": [],
   "source": [
    "last7dayTime, selectedTime = generateDateAndLast7day(date='07/02/23')\n",
    "last7dayTime, selectedTime"
   ]
  },
  {
   "cell_type": "markdown",
   "metadata": {},
   "source": [
    "# Part 1 Executive Summary – Cloud Service Usage"
   ]
  },
  {
   "cell_type": "code",
   "execution_count": null,
   "metadata": {},
   "outputs": [],
   "source": [
    "def getServiceCountStat(tenantId: None, selectedColumn: {}, tag: [], deviceHost: None, startDate: None, endDate: None):\n",
    "    getServiceCountStatUrl = BASE_URL + '/shnapi/rest/reporting/csv/queryPerServiceCounts'\n",
    "    print(\"URL  : \" + getServiceCountStatUrl)\n",
    "        \n",
    "    BODY = {\n",
    "        \"tableVisibilityMap\": selectedColumn,\n",
    "        \"eventFilter\": {\n",
    "            \"tagIdentifiers\": tag,\n",
    "            \"from\":startDate,\n",
    "            \"to\":endDate\n",
    "        }\n",
    "    }\n",
    "    \n",
    "    if deviceHost and deviceHost != []:\n",
    "        BODY[\"eventFilter\"][\"customAttrDtos\"] = [\n",
    "            { \"attributeColName\":\"custom1\", \"values\": deviceHost }\n",
    "        ] \n",
    "    \n",
    "#     pp.pprint(BODY)\n",
    "    \n",
    "    r = requests.post(getServiceCountStatUrl, headers=HEADER, params={}, data=json.dumps(BODY).encode(\"utf-8\"), auth=(USERNAME,PASSWORD), proxies=PROXIES, verify=False)\n",
    "    \n",
    "    if r.status_code == 200:\n",
    "        return r.text\n",
    "    else:\n",
    "        print(\"[\" + str(r.status_code) + \"] Error : \" + str(r.text))\n",
    "        return None"
   ]
  },
  {
   "cell_type": "code",
   "execution_count": null,
   "metadata": {},
   "outputs": [],
   "source": [
    "def generateSeletedColumns():\n",
    "    return {\n",
    "#         \"Service Name\" : True,\n",
    "#         \"Category\" : True,\n",
    "#         \"Risk\"  :True,\n",
    "#         \"Access Count\" : True,\n",
    "#         \"Outbound\" : True,\n",
    "#         \"Inbound\" : True,\n",
    "#         \"Upload Count\" : True,\n",
    "#         \"Upload Data\" : True,\n",
    "#         \"Users\" : True,\n",
    "#         \"Allowed\" : True,\n",
    "#         \"Denied\" : True\n",
    "    }"
   ]
  },
  {
   "cell_type": "code",
   "execution_count": null,
   "metadata": {},
   "outputs": [],
   "source": [
    "def extractDataToDataframe(data: None):\n",
    "    res = [res.split(\",\") for res in data.split('\\n')]\n",
    "    res_df = pd.DataFrame(data=res[1:len(res)-1], columns=res[0]) #.dropna()\n",
    "    \n",
    "    del res\n",
    "    \n",
    "    columnToInt = ['Risk', 'Access Count', 'Outbound', 'Inbound', 'Upload Count', 'Upload Data', 'Users', 'Allowed', 'Denied', 'Allowed Data', 'Denied Data', 'Total Data']\n",
    "    res_df[columnToInt] = res_df[columnToInt].apply(pd.to_numeric, errors='coerce')\n",
    "\n",
    "    columnToDatetime = ['ServiceFirstUsed', 'ServiceLastUsed']\n",
    "    res_df[columnToDatetime] = res_df[columnToDatetime].apply(pd.to_datetime, errors='coerce')\n",
    "    \n",
    "    return res_df"
   ]
  },
  {
   "cell_type": "code",
   "execution_count": null,
   "metadata": {},
   "outputs": [],
   "source": [
    "def extractServiceByRisk(data: None):\n",
    "    dataHigh_df = data[data[\"Risk\"]>=7]\n",
    "    dataMedium_df = data[(data[\"Risk\"]>=4) & (data[\"Risk\"]<7)]\n",
    "    dataLow_df = data[(data[\"Risk\"]>=0) & (data[\"Risk\"]<4)]\n",
    "    return dataHigh_df, dataMedium_df, dataLow_df"
   ]
  },
  {
   "cell_type": "code",
   "execution_count": null,
   "metadata": {},
   "outputs": [],
   "source": [
    "def generateServiceStat(data: None, excludeService: None):\n",
    "    CloudServices_df = extractDataToDataframe(data=data)\n",
    "    \n",
    "    # Exclude Allow Service\n",
    "    CloudServices_df = CloudServices_df[~(CloudServices_df[\"Service Id\"].isin(excludeService))]\n",
    "    \n",
    "    # Filter Allowed\n",
    "    allowedServices_df = CloudServices_df[CloudServices_df[\"Allowed\"]>0]\n",
    "    \n",
    "    # Filter Allowed with Risk\n",
    "    allowwithHighRiskServices_df, allowwithMediumRiskServices_df, allowwithLowRiskServices_df = extractServiceByRisk(data=allowedServices_df)\n",
    "\n",
    "    # Filter Allowed with Risk - CLoud Storage\n",
    "    allowedCloudStorage_df = allowedServices_df[allowedServices_df[\"Category\"]==\"Cloud Storage\"]\n",
    "    allowwithHighRiskCloudStorage_df, allowwithMediumRiskCloudStorage_df, allowwithLowRiskCloudStorage_df = extractServiceByRisk(data=allowedCloudStorage_df)\n",
    "    \n",
    "    # Filter Denied\n",
    "    deniedServices_df = CloudServices_df[CloudServices_df[\"Denied\"]>0]\n",
    "\n",
    "    return {\n",
    "        \"all\" : CloudServices_df,\n",
    "        \"allowedServices\" : {\n",
    "            \"all\" : allowedServices_df,\n",
    "            \"highRisk\" : allowwithHighRiskServices_df,\n",
    "            \"mediumRisk\" : allowwithMediumRiskServices_df,\n",
    "            \"lowRisk\" : allowwithLowRiskServices_df,\n",
    "            \"cloudStorage\" : {\n",
    "                \"all\" : allowedCloudStorage_df,\n",
    "                \"highRisk\" : allowwithHighRiskCloudStorage_df,\n",
    "                \"mediumRisk\" : allowwithMediumRiskCloudStorage_df,\n",
    "                \"lowRisk\" : allowwithLowRiskCloudStorage_df,\n",
    "            }\n",
    "        },\n",
    "        \"deniedServices\" : deniedServices_df\n",
    "    }"
   ]
  },
  {
   "cell_type": "code",
   "execution_count": null,
   "metadata": {},
   "outputs": [],
   "source": [
    "def printServiceStat(allData: None, allowedData: None, deniedData: None):\n",
    "    print(\"\\nTotal Service Statistic\")                                                          \n",
    "    print(\"All Cloud Service Discovered : %d services\" % (len(allData)))\n",
    "    print(\"All Cloud Service Allowed Traffic : %d services\" % (len(allowedData[\"all\"])))\n",
    "    print(\"All Cloud Service Allowed Traffic by Risk : %d(%d,%d,%d) services\" % (len(allowedData[\"all\"]),\n",
    "                                                                                 len(allowedData[\"highRisk\"]),\n",
    "                                                                                 len(allowedData[\"mediumRisk\"]),\n",
    "                                                                                 len(allowedData[\"lowRisk\"])))\n",
    "    print(\"Cloud Storage Services Allowed Traffic : %d(%d,%d,%d) services\" % (len(allowedData[\"cloudStorage\"][\"all\"]),\n",
    "                                                                              len(allowedData[\"cloudStorage\"][\"highRisk\"]),\n",
    "                                                                              len(allowedData[\"cloudStorage\"][\"mediumRisk\"]),\n",
    "                                                                              len(allowedData[\"cloudStorage\"][\"lowRisk\"])))\n",
    "    print(\"All Cloud Service Denied Traffic : %d services\" % (len(deniedData)))\n",
    "    "
   ]
  },
  {
   "cell_type": "code",
   "execution_count": null,
   "metadata": {},
   "outputs": [],
   "source": [
    "fp_tag = 0\n",
    "pa_tag = 0\n",
    "wah_tag = 0\n",
    "\n",
    "AllowServiceCSPIDList = [\"0\"]\n",
    "\n",
    "# Device Host // Custom 1 Tag\n",
    "remote_type = [\"A\"]\n",
    "oversea_type = [\"A\"]\n",
    "\n",
    "selectedColumn = generateSeletedColumns()"
   ]
  },
  {
   "cell_type": "code",
   "execution_count": null,
   "metadata": {},
   "outputs": [],
   "source": [
    "# Forcepoint Proxy\n",
    "fpServiceCounts = getServiceCountStat(tenantId=TENANT_ID,\n",
    "                                    selectedColumn=selectedColumn,\n",
    "                                    tag=[fp_tag],\n",
    "                                    deviceHost=None,\n",
    "                                    startDate=last7dayTime,\n",
    "                                    endDate=selectedTime)\n",
    "fpServiceCounts = generateServiceStat(data=fpServiceCounts, excludeService=AllowServiceCSPIDList)\n",
    "\n",
    "# Remote Access\n",
    "rmServiceCounts = getServiceCountStat(tenantId=TENANT_ID,\n",
    "                                    selectedColumn=selectedColumn,\n",
    "                                    tag=[pa_tag],\n",
    "                                    deviceHost=remote_type,\n",
    "                                    startDate=last7dayTime,\n",
    "                                    endDate=selectedTime)\n",
    "rmServiceCounts = generateServiceStat(data=rmServiceCounts, excludeService=AllowServiceCSPIDList)\n",
    "\n",
    "# Oversea Branch\n",
    "ozServiceCounts = getServiceCountStat(tenantId=TENANT_ID,\n",
    "                                    selectedColumn=selectedColumn,\n",
    "                                    tag=[pa_tag],\n",
    "                                    deviceHost=oversea_type,\n",
    "                                    startDate=last7dayTime,\n",
    "                                    endDate=selectedTime)\n",
    "ozServiceCounts = generateServiceStat(data=ozServiceCounts, excludeService=AllowServiceCSPIDList)\n",
    "\n",
    "# Work Anywhere, Skyhigh\n",
    "wawServiceCounts = getServiceCountStat(tenantId=TENANT_ID,\n",
    "                                    selectedColumn=selectedColumn,\n",
    "                                    tag=[wah_tag],\n",
    "                                    deviceHost=None,\n",
    "                                    startDate=last7dayTime,\n",
    "                                    endDate=selectedTime)\n",
    "wawServiceCounts = generateServiceStat(data=wawServiceCounts, excludeService=AllowServiceCSPIDList)\n"
   ]
  },
  {
   "cell_type": "code",
   "execution_count": null,
   "metadata": {},
   "outputs": [],
   "source": [
    "print(\"\\nPart 1 Executive Summary – Cloud Service Usage : \")\n",
    "\n",
    "print(\"\\nHQ : \")\n",
    "printServiceStat(allData=fpServiceCounts[\"all\"],\n",
    "                 allowedData=fpServiceCounts[\"allowedServices\"],\n",
    "                 deniedData=fpServiceCounts[\"deniedServices\"])\n",
    "ICD.display(fpServiceCounts[\"allowedServices\"][\"highRisk\"].head(5))\n",
    "\n",
    "print(\"\\nRemote Access : \")\n",
    "printServiceStat(allData=rmServiceCounts[\"all\"],\n",
    "                 allowedData=rmServiceCounts[\"allowedServices\"],\n",
    "                 deniedData=rmServiceCounts[\"deniedServices\"])\n",
    "ICD.display(rmServiceCounts[\"allowedServices\"][\"highRisk\"].head(5))\n",
    "\n",
    "print(\"\\nOversea Branch: \")\n",
    "printServiceStat(allData=ozServiceCounts[\"all\"],\n",
    "                 allowedData=ozServiceCounts[\"allowedServices\"],\n",
    "                 deniedData=ozServiceCounts[\"deniedServices\"])\n",
    "ICD.display(ozServiceCounts[\"allowedServices\"][\"highRisk\"].head(5))\n",
    "\n",
    "print(\"\\nWork Anywhere Gateway : \")\n",
    "printServiceStat(allData=wawServiceCounts[\"all\"],\n",
    "                 allowedData=wawServiceCounts[\"allowedServices\"],\n",
    "                 deniedData=wawServiceCounts[\"deniedServices\"])\n",
    "ICD.display(wawServiceCounts[\"allowedServices\"][\"highRisk\"].head(5))"
   ]
  },
  {
   "cell_type": "markdown",
   "metadata": {},
   "source": [
    "# Part 2 Anomalies Activities UEBA"
   ]
  },
  {
   "cell_type": "markdown",
   "metadata": {},
   "source": [
    "Go to portal and Capture Image"
   ]
  },
  {
   "cell_type": "code",
   "execution_count": null,
   "metadata": {},
   "outputs": [],
   "source": [
    "last7dayTime, selectedTime"
   ]
  },
  {
   "cell_type": "code",
   "execution_count": null,
   "metadata": {},
   "outputs": [],
   "source": [
    "# Anomalies\n",
    "# Status = new, Service Name = Exchange, Onedrive, Sharepoint\n",
    "# Capture Image\n",
    "\n",
    "{\n",
    "    \"type\":\"in_search_query\",\n",
    "    \"field\":\"incident_detail.services.name\",\n",
    "    \"values\":[\"sharepoint\",\"onedrive\",\"exchange online\"]\n",
    "},\n",
    "{\n",
    "  \"type\": \"equal_search_query\",\n",
    "  \"value\": \"new\",\n",
    "  \"field\": \"workflow.status\"\n",
    "}\n",
    "{\n",
    "    \"type\":\"equal_search_query\",\n",
    "    \"value\":\"2\",\n",
    "    \"field\":\"severity\"\n",
    "}"
   ]
  },
  {
   "cell_type": "code",
   "execution_count": null,
   "metadata": {},
   "outputs": [],
   "source": []
  },
  {
   "cell_type": "code",
   "execution_count": null,
   "metadata": {},
   "outputs": [],
   "source": []
  },
  {
   "cell_type": "code",
   "execution_count": null,
   "metadata": {},
   "outputs": [],
   "source": [
    "# hqAllCloudServices_df[[\"Service Id\", \"Service Name\"]][hqAllCloudServices_df[\"Service Name\"].str.contains(\"microsoft\", case=False)]"
   ]
  },
  {
   "cell_type": "code",
   "execution_count": null,
   "metadata": {},
   "outputs": [],
   "source": [
    "# eventFilter = {\n",
    "# #     \"serviceidentifiers\": [\"2799\", \"3210\"],\n",
    "#     \"from\":last7dayTime,\n",
    "#     \"to\":nowTime,\n",
    "# }"
   ]
  },
  {
   "cell_type": "code",
   "execution_count": null,
   "metadata": {},
   "outputs": [],
   "source": [
    "# BODY = {\n",
    "#     \"templateId\" : 10,\n",
    "#     \"eventFilter\" : eventFilter\n",
    "# }\n",
    "\n",
    "# BODY"
   ]
  },
  {
   "cell_type": "code",
   "execution_count": null,
   "metadata": {},
   "outputs": [],
   "source": [
    "# url = BASE_URL + '/shnapi/rest/reporting/csv/queryAnomaliesForUser'\n",
    "# print(\"URL  : \" + url)\n",
    "# r = requests.post(url, headers=HEADER, params={}, data=json.dumps(BODY).encode(\"utf-8\"), auth=(USERNAME,PASSWORD), verify=False)\n",
    "# r.status_code"
   ]
  },
  {
   "cell_type": "code",
   "execution_count": null,
   "metadata": {},
   "outputs": [],
   "source": [
    "# res = [res.split(\",\") for res in r.text.split('\\n')]\n",
    "# res_df = pd.DataFrame(data=res[1:], columns=res[0])#.dropna()\n",
    "# res_df"
   ]
  },
  {
   "cell_type": "code",
   "execution_count": null,
   "metadata": {},
   "outputs": [],
   "source": []
  },
  {
   "cell_type": "markdown",
   "metadata": {},
   "source": [
    "# Part 3 - Activities"
   ]
  },
  {
   "cell_type": "code",
   "execution_count": null,
   "metadata": {},
   "outputs": [],
   "source": [
    "# Incidents > User Activity > Activities\n",
    "# Activity Type\n",
    "\n",
    "# \"sharepoint\",\"onedrive\",\"exchange online\""
   ]
  },
  {
   "cell_type": "code",
   "execution_count": null,
   "metadata": {},
   "outputs": [],
   "source": [
    "url = BASE_URL + '/shnapi/rest/external/api/v1/queryIncidents?limit=500'\n",
    "print(\"URL  : \" + url)\n",
    "\n",
    "BODY =  { \n",
    "    \"startTime\": datetime.datetime.now().date().strftime('%Y-%m-%dT00:00:00'), #last7dayTime,\n",
    "    \"serviceNames\":[\"sharepoint\"] # ,\"onedrive\",\"exchange\"\n",
    "#     \"incidentCriteria\": { \n",
    "#         \"categories\": [ \n",
    "#             {\n",
    "#                 \"incidentType\":\"Threat\"\n",
    "#             }\n",
    "#         ] \n",
    "#     } \n",
    "} \n",
    "\n",
    "BODY"
   ]
  },
  {
   "cell_type": "code",
   "execution_count": null,
   "metadata": {},
   "outputs": [],
   "source": [
    "# r = requests.post(url, headers=HEADER, params={}, data=json.dumps(BODY).encode(\"utf-8\"), auth=(USERNAME,PASSWORD), verify=False)\n",
    "# r.status_code, r.json()"
   ]
  },
  {
   "cell_type": "code",
   "execution_count": null,
   "metadata": {},
   "outputs": [],
   "source": [
    "allresult = []"
   ]
  },
  {
   "cell_type": "code",
   "execution_count": null,
   "metadata": {},
   "outputs": [],
   "source": [
    "while True:\n",
    "    print(BODY)\n",
    "    r = requests.post(url, headers=HEADER, params={}, data=json.dumps(BODY).encode(\"utf-8\"), auth=(USERNAME,PASSWORD), verify=False)\n",
    "    print(r.status_code)\n",
    "    \n",
    "    res = r.json()[\"body\"]\n",
    "    \n",
    "    allresult += res[\"incidents\"]\n",
    "    \n",
    "    print(res[\"responseInfo\"][\"nextStartTime\"])\n",
    "    BODY[\"startTime\"] = res[\"responseInfo\"][\"nextStartTime\"]\n",
    "    if res[\"responseInfo\"][\"nextStartTime\"] != None and res[\"incidents\"] != []:\n",
    "        BODY[\"startTime\"] = res[\"responseInfo\"][\"nextStartTime\"]\n",
    "#         print(BODY[\"startTime\"])\n",
    "#         break\n",
    "    else:\n",
    "        print(res[\"responseInfo\"][\"nextStartTime\"])\n",
    "        break\n",
    "    "
   ]
  },
  {
   "cell_type": "code",
   "execution_count": null,
   "metadata": {},
   "outputs": [],
   "source": []
  },
  {
   "cell_type": "code",
   "execution_count": null,
   "metadata": {},
   "outputs": [],
   "source": [
    "allresult"
   ]
  },
  {
   "cell_type": "code",
   "execution_count": null,
   "metadata": {},
   "outputs": [],
   "source": [
    "resincidents_df = pd.DataFrame(allresult)#.dropna()\n",
    "resincidents_df"
   ]
  },
  {
   "cell_type": "code",
   "execution_count": null,
   "metadata": {},
   "outputs": [],
   "source": [
    "list(resincidents_df[\"activityNames\"].unique())"
   ]
  },
  {
   "cell_type": "code",
   "execution_count": null,
   "metadata": {},
   "outputs": [],
   "source": []
  }
 ],
 "metadata": {
  "kernelspec": {
   "display_name": "Python 3",
   "language": "python",
   "name": "python3"
  },
  "language_info": {
   "codemirror_mode": {
    "name": "ipython",
    "version": 3
   },
   "file_extension": ".py",
   "mimetype": "text/x-python",
   "name": "python",
   "nbconvert_exporter": "python",
   "pygments_lexer": "ipython3",
   "version": "3.8.8"
  }
 },
 "nbformat": 4,
 "nbformat_minor": 4
}
