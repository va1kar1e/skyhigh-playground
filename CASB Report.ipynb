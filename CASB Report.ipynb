{
 "cells": [
  {
   "cell_type": "markdown",
   "metadata": {},
   "source": [
    "# Part 1 Executive Summary – Cloud Service Usage"
   ]
  },
  {
   "cell_type": "code",
   "execution_count": null,
   "metadata": {},
   "outputs": [],
   "source": [
    "import base64\n",
    "import os, sys, json\n",
    "import requests\n",
    "import time, datetime\n",
    "import base64\n",
    "import pandas as pd\n",
    "from IPython.core import display as ICD\n",
    "import pprint as pp\n",
    "import mysql.connector\n",
    "from mysql.connector import errorcode\n",
    "from dotenv import load_dotenv\n",
    "load_dotenv()"
   ]
  },
  {
   "cell_type": "code",
   "execution_count": null,
   "metadata": {},
   "outputs": [],
   "source": [
    "BASE_URL = os.getenv(\"MYSHYN_URL\")\n",
    "\n",
    "TENANT_ID = os.getenv(\"MYSHYN_TENANT_ID\")\n",
    "\n",
    "USERNAME = os.getenv(\"MYSHYN_USERNAME\")\n",
    "PASSWORD = os.getenv(\"MYSHYN_PASSWORD\")\n",
    "\n",
    "REGISTRY_API_KEY = os.getenv(\"MYSHYN_REGISTRY_API\")\n",
    "\n",
    "PROXIES = {\n",
    "    \"https\" : os.getenv(\"PROXIES_HTTPS\")\n",
    "}"
   ]
  },
  {
   "cell_type": "code",
   "execution_count": null,
   "metadata": {},
   "outputs": [],
   "source": [
    "HEADER = {\n",
    "    'Content-Type': 'application/json'\n",
    "}"
   ]
  },
  {
   "cell_type": "code",
   "execution_count": null,
   "metadata": {},
   "outputs": [],
   "source": [
    "def generateDateAndLast7day(date: None):\n",
    "    # Get date\n",
    "    selectedTime = datetime.datetime.strptime(date, '%d/%m/%y')\n",
    "    last7dayTime = selectedTime - datetime.timedelta(days=6)\n",
    "    \n",
    "    # Convert date to timestamp\n",
    "    selectedTime = selectedTime.strftime('%Y-%m-%dT23:59:00')\n",
    "    last7dayTime = last7dayTime.strftime('%Y-%m-%dT00:00:00')\n",
    "\n",
    "    # Convert timestamp to date\n",
    "    # nowTime = datetime.datetime.fromtimestamp(nowTime)\n",
    "    # last7dayTime = datetime.datetime.fromtimestamp(last7dayTime)\n",
    "    \n",
    "    return last7dayTime, selectedTime"
   ]
  },
  {
   "cell_type": "code",
   "execution_count": null,
   "metadata": {},
   "outputs": [],
   "source": [
    "last7dayTime, selectedTime = generateDateAndLast7day(date='07/02/23')\n",
    "last7dayTime, selectedTime"
   ]
  },
  {
   "cell_type": "code",
   "execution_count": null,
   "metadata": {},
   "outputs": [],
   "source": [
    "def getServiceCountStat(tenantId: None, selectedColumn: {}, tag: [], deviceHost: None, startDate: None, endDate: None):\n",
    "    getServiceCountStatUrl = BASE_URL + '/shnapi/rest/reporting/csv/queryPerServiceCounts'\n",
    "    print(\"URL  : \" + getServiceCountStatUrl)\n",
    "        \n",
    "    BODY = {\n",
    "        \"tableVisibilityMap\": selectedColumn,\n",
    "        \"eventFilter\": {\n",
    "            \"tagIdentifiers\": tag,\n",
    "            \"from\":startDate,\n",
    "            \"to\":endDate\n",
    "        }\n",
    "    }\n",
    "    \n",
    "    if deviceHost and deviceHost != []:\n",
    "        BODY[\"eventFilter\"][\"customAttrDtos\"] = [\n",
    "            { \"attributeColName\":\"custom1\", \"values\": deviceHost }\n",
    "        ] \n",
    "    \n",
    "#     pp.pprint(BODY)\n",
    "    \n",
    "    r = requests.post(getServiceCountStatUrl, headers=HEADER, params={}, data=json.dumps(BODY).encode(\"utf-8\"), auth=(USERNAME,PASSWORD), proxies=PROXIES, verify=False)\n",
    "    \n",
    "    if r.status_code == 200:\n",
    "        return r.text\n",
    "    else:\n",
    "        print(\"[\" + str(r.status_code) + \"] Error : \" + str(r.text))\n",
    "        return None"
   ]
  },
  {
   "cell_type": "code",
   "execution_count": null,
   "metadata": {},
   "outputs": [],
   "source": [
    "def generateSeletedColumns():\n",
    "    return {\n",
    "#         \"Service Name\" : True,\n",
    "#         \"Category\" : True,\n",
    "#         \"Risk\"  :True,\n",
    "#         \"Access Count\" : True,\n",
    "#         \"Outbound\" : True,\n",
    "#         \"Inbound\" : True,\n",
    "#         \"Upload Count\" : True,\n",
    "#         \"Upload Data\" : True,\n",
    "#         \"Users\" : True,\n",
    "#         \"Allowed\" : True,\n",
    "#         \"Denied\" : True\n",
    "    }"
   ]
  },
  {
   "cell_type": "code",
   "execution_count": null,
   "metadata": {},
   "outputs": [],
   "source": [
    "def extractDataToDataframe(data: None):\n",
    "    res = [res.split(\",\") for res in data.split('\\n')]\n",
    "    res_df = pd.DataFrame(data=res[1:len(res)-1], columns=res[0]) #.dropna()\n",
    "    \n",
    "    del res\n",
    "    \n",
    "    columnToInt = ['Risk', 'Access Count', 'Outbound', 'Inbound', 'Upload Count', 'Upload Data', 'Users', 'Allowed', 'Denied', 'Allowed Data', 'Denied Data', 'Total Data']\n",
    "    res_df[columnToInt] = res_df[columnToInt].apply(pd.to_numeric, errors='coerce')\n",
    "\n",
    "    columnToDatetime = ['ServiceFirstUsed', 'ServiceLastUsed']\n",
    "    res_df[columnToDatetime] = res_df[columnToDatetime].apply(pd.to_datetime, errors='coerce')\n",
    "    \n",
    "    return res_df"
   ]
  },
  {
   "cell_type": "code",
   "execution_count": null,
   "metadata": {},
   "outputs": [],
   "source": [
    "def extractServiceByRisk(data: None):\n",
    "    dataHigh_df = data[data[\"Risk\"]>=7]\n",
    "    dataMedium_df = data[(data[\"Risk\"]>=4) & (data[\"Risk\"]<7)]\n",
    "    dataLow_df = data[(data[\"Risk\"]>=0) & (data[\"Risk\"]<4)]\n",
    "    return dataHigh_df, dataMedium_df, dataLow_df"
   ]
  },
  {
   "cell_type": "code",
   "execution_count": null,
   "metadata": {},
   "outputs": [],
   "source": [
    "def generateServiceStat(data: None, excludeService: None):\n",
    "    CloudServices_df = extractDataToDataframe(data=data)\n",
    "    \n",
    "    # Exclude Allow Service\n",
    "    CloudServices_df = CloudServices_df[~(CloudServices_df[\"Service Id\"].isin(excludeService))]\n",
    "    \n",
    "    # Filter Allowed\n",
    "    allowedServices_df = CloudServices_df[CloudServices_df[\"Allowed\"]>0]\n",
    "    \n",
    "    # Filter Allowed with Risk\n",
    "    allowwithHighRiskServices_df, allowwithMediumRiskServices_df, allowwithLowRiskServices_df = extractServiceByRisk(data=allowedServices_df)\n",
    "\n",
    "    # Filter Allowed with Risk - CLoud Storage\n",
    "    allowedCloudStorage_df = allowedServices_df[allowedServices_df[\"Category\"]==\"Cloud Storage\"]\n",
    "    allowwithHighRiskCloudStorage_df, allowwithMediumRiskCloudStorage_df, allowwithLowRiskCloudStorage_df = extractServiceByRisk(data=allowedCloudStorage_df)\n",
    "    \n",
    "    # Filter Denied\n",
    "    deniedServices_df = CloudServices_df[CloudServices_df[\"Denied\"]>0]\n",
    "\n",
    "    return {\n",
    "        \"all\" : CloudServices_df,\n",
    "        \"allowedServices\" : {\n",
    "            \"all\" : allowedServices_df,\n",
    "            \"highRisk\" : allowwithHighRiskServices_df,\n",
    "            \"mediumRisk\" : allowwithMediumRiskServices_df,\n",
    "            \"lowRisk\" : allowwithLowRiskServices_df,\n",
    "            \"cloudStorage\" : {\n",
    "                \"all\" : allowedCloudStorage_df,\n",
    "                \"highRisk\" : allowwithHighRiskCloudStorage_df,\n",
    "                \"mediumRisk\" : allowwithMediumRiskCloudStorage_df,\n",
    "                \"lowRisk\" : allowwithLowRiskCloudStorage_df,\n",
    "            }\n",
    "        },\n",
    "        \"deniedServices\" : deniedServices_df\n",
    "    }"
   ]
  },
  {
   "cell_type": "code",
   "execution_count": null,
   "metadata": {},
   "outputs": [],
   "source": [
    "def printServiceStat(allData: None, allowedData: None, deniedData: None):\n",
    "    print(\"\\nTotal Service Statistic\")                                                          \n",
    "    print(\"All Cloud Service Discovered : %d services\" % (len(allData)))\n",
    "    print(\"All Cloud Service Allowed Traffic : %d services\" % (len(allowedData[\"all\"])))\n",
    "    print(\"All Cloud Service Allowed Traffic by Risk : %d(%d,%d,%d) services\" % (len(allowedData[\"all\"]),\n",
    "                                                                                 len(allowedData[\"highRisk\"]),\n",
    "                                                                                 len(allowedData[\"mediumRisk\"]),\n",
    "                                                                                 len(allowedData[\"lowRisk\"])))\n",
    "    print(\"Cloud Storage Services Allowed Traffic : %d(%d,%d,%d) services\" % (len(allowedData[\"cloudStorage\"][\"all\"]),\n",
    "                                                                              len(allowedData[\"cloudStorage\"][\"highRisk\"]),\n",
    "                                                                              len(allowedData[\"cloudStorage\"][\"mediumRisk\"]),\n",
    "                                                                              len(allowedData[\"cloudStorage\"][\"lowRisk\"])))\n",
    "    print(\"All Cloud Service Denied Traffic : %d services\" % (len(deniedData)))\n",
    "    "
   ]
  },
  {
   "cell_type": "code",
   "execution_count": null,
   "metadata": {},
   "outputs": [],
   "source": [
    "fp_tag = 0\n",
    "pa_tag = 0\n",
    "wah_tag = 0\n",
    "\n",
    "AllowServiceCSPIDList = [\"0\"]\n",
    "\n",
    "# Device Host // Custom 1 Tag\n",
    "remote_type = [\"A\"]\n",
    "oversea_type = [\"A\"]\n",
    "\n",
    "selectedColumn = generateSeletedColumns()"
   ]
  },
  {
   "cell_type": "code",
   "execution_count": null,
   "metadata": {},
   "outputs": [],
   "source": [
    "# Forcepoint Proxy\n",
    "fpServiceCounts = getServiceCountStat(tenantId=TENANT_ID,\n",
    "                                    selectedColumn=selectedColumn,\n",
    "                                    tag=[fp_tag],\n",
    "                                    deviceHost=None,\n",
    "                                    startDate=last7dayTime,\n",
    "                                    endDate=selectedTime)\n",
    "fpServiceCounts = generateServiceStat(data=fpServiceCounts, excludeService=AllowServiceCSPIDList)\n",
    "\n",
    "# Remote Access\n",
    "rmServiceCounts = getServiceCountStat(tenantId=TENANT_ID,\n",
    "                                    selectedColumn=selectedColumn,\n",
    "                                    tag=[pa_tag],\n",
    "                                    deviceHost=remote_type,\n",
    "                                    startDate=last7dayTime,\n",
    "                                    endDate=selectedTime)\n",
    "rmServiceCounts = generateServiceStat(data=rmServiceCounts, excludeService=AllowServiceCSPIDList)\n",
    "\n",
    "# Oversea Branch\n",
    "ozServiceCounts = getServiceCountStat(tenantId=TENANT_ID,\n",
    "                                    selectedColumn=selectedColumn,\n",
    "                                    tag=[pa_tag],\n",
    "                                    deviceHost=oversea_type,\n",
    "                                    startDate=last7dayTime,\n",
    "                                    endDate=selectedTime)\n",
    "ozServiceCounts = generateServiceStat(data=ozServiceCounts, excludeService=AllowServiceCSPIDList)\n",
    "\n",
    "# Work Anywhere, Skyhigh\n",
    "wawServiceCounts = getServiceCountStat(tenantId=TENANT_ID,\n",
    "                                    selectedColumn=selectedColumn,\n",
    "                                    tag=[wah_tag],\n",
    "                                    deviceHost=None,\n",
    "                                    startDate=last7dayTime,\n",
    "                                    endDate=selectedTime)\n",
    "wawServiceCounts = generateServiceStat(data=wawServiceCounts, excludeService=AllowServiceCSPIDList)\n"
   ]
  },
  {
   "cell_type": "code",
   "execution_count": null,
   "metadata": {},
   "outputs": [],
   "source": [
    "print(\"\\nPart 1 Executive Summary – Cloud Service Usage : \")\n",
    "\n",
    "print(\"\\nHQ : \")\n",
    "printServiceStat(allData=fpServiceCounts[\"all\"],\n",
    "                 allowedData=fpServiceCounts[\"allowedServices\"],\n",
    "                 deniedData=fpServiceCounts[\"deniedServices\"])\n",
    "ICD.display(fpServiceCounts[\"allowedServices\"][\"highRisk\"].head(5))\n",
    "\n",
    "print(\"\\nRemote Access : \")\n",
    "printServiceStat(allData=rmServiceCounts[\"all\"],\n",
    "                 allowedData=rmServiceCounts[\"allowedServices\"],\n",
    "                 deniedData=rmServiceCounts[\"deniedServices\"])\n",
    "ICD.display(rmServiceCounts[\"allowedServices\"][\"highRisk\"].head(5))\n",
    "\n",
    "print(\"\\nOversea Branch: \")\n",
    "printServiceStat(allData=ozServiceCounts[\"all\"],\n",
    "                 allowedData=ozServiceCounts[\"allowedServices\"],\n",
    "                 deniedData=ozServiceCounts[\"deniedServices\"])\n",
    "ICD.display(ozServiceCounts[\"allowedServices\"][\"highRisk\"].head(5))\n",
    "\n",
    "print(\"\\nWork Anywhere Gateway : \")\n",
    "printServiceStat(allData=wawServiceCounts[\"all\"],\n",
    "                 allowedData=wawServiceCounts[\"allowedServices\"],\n",
    "                 deniedData=wawServiceCounts[\"deniedServices\"])\n",
    "ICD.display(wawServiceCounts[\"allowedServices\"][\"highRisk\"].head(5))"
   ]
  },
  {
   "cell_type": "markdown",
   "metadata": {},
   "source": [
    "# Part 2 Anomalies Activities UEBA"
   ]
  },
  {
   "cell_type": "markdown",
   "metadata": {},
   "source": [
    "Go to portal and Capture Image"
   ]
  },
  {
   "cell_type": "code",
   "execution_count": null,
   "metadata": {},
   "outputs": [],
   "source": [
    "last7dayTime, selectedTime"
   ]
  },
  {
   "cell_type": "code",
   "execution_count": null,
   "metadata": {},
   "outputs": [],
   "source": [
    "# Anomalies\n",
    "# Status = new, Service Name = Exchange, Onedrive, Sharepoint\n",
    "# Capture Image\n",
    "\n",
    "{\n",
    "    \"type\":\"in_search_query\",\n",
    "    \"field\":\"incident_detail.services.name\",\n",
    "    \"values\":[\"sharepoint\",\"onedrive\",\"exchange online\"]\n",
    "},\n",
    "{\n",
    "  \"type\": \"equal_search_query\",\n",
    "  \"value\": \"new\",\n",
    "  \"field\": \"workflow.status\"\n",
    "}\n",
    "{\n",
    "    \"type\":\"equal_search_query\",\n",
    "    \"value\":\"2\",\n",
    "    \"field\":\"severity\"\n",
    "}"
   ]
  },
  {
   "cell_type": "code",
   "execution_count": null,
   "metadata": {},
   "outputs": [],
   "source": []
  },
  {
   "cell_type": "code",
   "execution_count": null,
   "metadata": {},
   "outputs": [],
   "source": []
  },
  {
   "cell_type": "code",
   "execution_count": null,
   "metadata": {},
   "outputs": [],
   "source": [
    "# hqAllCloudServices_df[[\"Service Id\", \"Service Name\"]][hqAllCloudServices_df[\"Service Name\"].str.contains(\"microsoft\", case=False)]"
   ]
  },
  {
   "cell_type": "code",
   "execution_count": null,
   "metadata": {},
   "outputs": [],
   "source": [
    "# eventFilter = {\n",
    "# #     \"serviceidentifiers\": [\"2799\", \"3210\"],\n",
    "#     \"from\":last7dayTime,\n",
    "#     \"to\":nowTime,\n",
    "# }"
   ]
  },
  {
   "cell_type": "code",
   "execution_count": null,
   "metadata": {},
   "outputs": [],
   "source": [
    "# BODY = {\n",
    "#     \"templateId\" : 10,\n",
    "#     \"eventFilter\" : eventFilter\n",
    "# }\n",
    "\n",
    "# BODY"
   ]
  },
  {
   "cell_type": "code",
   "execution_count": null,
   "metadata": {},
   "outputs": [],
   "source": [
    "# url = BASE_URL + '/shnapi/rest/reporting/csv/queryAnomaliesForUser'\n",
    "# print(\"URL  : \" + url)\n",
    "# r = requests.post(url, headers=HEADER, params={}, data=json.dumps(BODY).encode(\"utf-8\"), auth=(USERNAME,PASSWORD), verify=False)\n",
    "# r.status_code"
   ]
  },
  {
   "cell_type": "code",
   "execution_count": null,
   "metadata": {},
   "outputs": [],
   "source": [
    "# res = [res.split(\",\") for res in r.text.split('\\n')]\n",
    "# res_df = pd.DataFrame(data=res[1:], columns=res[0])#.dropna()\n",
    "# res_df"
   ]
  },
  {
   "cell_type": "code",
   "execution_count": null,
   "metadata": {},
   "outputs": [],
   "source": []
  },
  {
   "cell_type": "markdown",
   "metadata": {},
   "source": [
    "# Part 3 - Activities"
   ]
  },
  {
   "cell_type": "code",
   "execution_count": null,
   "metadata": {},
   "outputs": [],
   "source": [
    "def generateDateAndLast7day(startdate: None, enddate: None) -> object:\n",
    "    # Get date\n",
    "    startDate = datetime.datetime.strptime(startdate, '%d/%m/%y')\n",
    "    endDate = datetime.datetime.strptime(enddate, '%d/%m/%y')\n",
    "\n",
    "    # Convert date to timestamp\n",
    "    startDate = startDate.strftime('%Y-%m-%dT00:00:00.000+07:00')\n",
    "    endDate = endDate.strftime('%Y-%m-%dT23:59:00.000+07:00')\n",
    "\n",
    "    return startDate, endDate"
   ]
  },
  {
   "cell_type": "code",
   "execution_count": null,
   "metadata": {},
   "outputs": [],
   "source": [
    "def getActivityStat(XACCESSTOKEN: str, SERVICES: list, startdate: None, enddate: None) -> list:\n",
    "    try:\n",
    "        getActivityStatURL = BASE_URL + '/neo/ta-activity-service/v1/tp/activity/facet'\n",
    "\n",
    "        headers = {\n",
    "            'Accept': 'application/json, text/plain, */*',\n",
    "            'Accept-Encoding': 'gzip, deflate, br',\n",
    "            'Content-Type': 'application/json;charset=UTF-8',\n",
    "            'x-access-token': str(XACCESSTOKEN)\n",
    "        }\n",
    "\n",
    "        payload = {\n",
    "            \"search_query\": {\n",
    "                \"type\": \"and_search_query\",\n",
    "                \"queries\": [\n",
    "                    {\n",
    "                        \"type\": \"in_search_query\",\n",
    "                        \"field\": \"serviceName\",\n",
    "                        \"values\": SERVICES\n",
    "                    },\n",
    "                    {\n",
    "                        \"field\": \"created_on_date\",\n",
    "                        \"lower_bound\": startdate,\n",
    "                        \"type\": \"between_search_query\",\n",
    "                        \"upper_bound\": enddate\n",
    "                    }\n",
    "                ]\n",
    "            },\n",
    "            \"paging_identifiers\": {},\n",
    "            \"limit\": 300,\n",
    "            \"is_descending\": \"false\",\n",
    "            \"timezone\": \"Asia/Bangkok\",\n",
    "            \"selected_facets\": [\n",
    "                \"Service Name\",\n",
    "                \"Instance\"\n",
    "            ]\n",
    "        }\n",
    "\n",
    "        response = requests.request(\"POST\", getActivityStatURL, params={}, headers=headers, data=json.dumps(payload).encode(\"utf-8\"), proxies=PROXIES, verify=False)\n",
    "        if response.status_code == 200:\n",
    "            return response.json()\n",
    "        else:\n",
    "            response = response.json()\n",
    "            print(\"[Error] Request Error.\")\n",
    "            pp.pprint(response)\n",
    "            sys.exit()\n",
    "    except:\n",
    "        print(\"[Error] Connection Error.\")\n",
    "        sys.exit()"
   ]
  },
  {
   "cell_type": "code",
   "execution_count": null,
   "metadata": {},
   "outputs": [],
   "source": [
    "def checkActivityType(serviceGroup: str, activityType: str, data: list) -> dict:\n",
    "    for d in data:\n",
    "        if d['label'] == activityType:\n",
    "            return {\n",
    "                \"service\": serviceGroup,\n",
    "                'label': d['label'],\n",
    "                'name': d['name'],\n",
    "                \"count\" : d['count']\n",
    "            }\n",
    "\n",
    "    return {\n",
    "        \"service\": serviceGroup,\n",
    "        'label': activityType,\n",
    "        'name': \"N/A_NOTFOUNDONTHISPERIOD\",\n",
    "        \"count\" : \"0\"\n",
    "    }"
   ]
  },
  {
   "cell_type": "code",
   "execution_count": null,
   "metadata": {},
   "outputs": [],
   "source": [
    "def extractActivityStats(jsondata: list) -> list: \n",
    "    for d in jsondata:\n",
    "        if d[\"label\"] == \"TOP_ACTIVITY_TYPE\":\n",
    "            print(\"%s, Total Activities : %d\" %(d[\"name\"], d[\"count\"]))\n",
    "            return d[\"child_facets\"] if \"child_facets\" in d else None\n",
    "    return None"
   ]
  },
  {
   "cell_type": "code",
   "execution_count": null,
   "metadata": {},
   "outputs": [],
   "source": [
    "def extractAllActivityType(serviceGroup: str, allActivityType: list, data: list) -> list:\n",
    "    activityTypeResults = []\n",
    "    for activityType in allActivityType:\n",
    "        activityTypeResults.append(checkActivityType(serviceGroup=serviceGroup, activityType=activityType, data=data))\n",
    "    return activityTypeResults\n"
   ]
  },
  {
   "cell_type": "code",
   "execution_count": null,
   "metadata": {},
   "outputs": [],
   "source": [
    "SERVICES = {\n",
    "    \"ONEDRIVE_SHAREPOINT\": {\n",
    "        \"query\": [\"SharePoint\",\"OneDrive\"],\n",
    "        \"activitytype\": [\n",
    "            \"FILE_ACCESSED\",\n",
    "            \"FILEACCESSEDEXTENDED\",\n",
    "            \"FILEPREVIEWED\",\n",
    "            \"FILE_MODIFIED\",\n",
    "            \"FILE_UPLOADED\",\n",
    "            \"FILEMODIFIEDEXTENDED\",\n",
    "            \"ADDED_TO_GROUP\",\n",
    "            \"FOLDERCREATED\",\n",
    "            \"FILE_DELETED\",\n",
    "            \"FILERECYCLED\",\n",
    "            \"FILE_OR_FOLDER_SHARED\",\n",
    "            \"ADDEDTOSECURELINK\",\n",
    "            \"FILE_DOWNLOADED\",\n",
    "            \"FILE_RENAMED\",\n",
    "            \"FILE_MOVED\",\n",
    "            \"FILES_DOWNLOADED_TO_COMPUTER\",\n",
    "            \"FILES_UPLOADED_TO_DOCUMENT_LIBRARY\"\n",
    "        ]\n",
    "    },\n",
    "    \"EXCHANGE\" : {\n",
    "        \"query\": [\"Exchange Online\"],\n",
    "        \"activitytype\": [\n",
    "            \"CREATE_ITEM\",\n",
    "            \"UPDATE_ITEM\",\n",
    "            \"MAILITEMSACCESSED\",\n",
    "            \"MODIFYFOLDERPERMISSIONS\",\n",
    "            \"SOFT_DELETE\",\n",
    "            \"HARD_DELETE\",\n",
    "            \"MAILBOX_LOGIN\",\n",
    "            \"SEND_AS\",\n",
    "            \"SEND_ON_BEHALF\",\n",
    "            \"SEND\",\n",
    "            \"MOVE_TO_DELETED_ITEMS\",\n",
    "            \"NEW-FOLDERMOVEREQUEST\",\n",
    "            \"ADD-DISTRIBUTIONGROUPMEMBER\"\n",
    "        ]\n",
    "    },\n",
    "    \"MSTEAM\" : {\n",
    "        \"query\": [\"Microsoft - Teams\"],\n",
    "        \"activitytype\": [\n",
    "            \"MESSAGECREATEDNOTIFICATION\",\n",
    "            \"MESSAGEUPDATEDNOTIFICATION\",\n",
    "            \"MESSAGECREATEDHASLINK\",\n",
    "            \"MESSAGEEDITEDHASLINK\",\n",
    "            \"MEETINGPARTICIPANTDETAIL\",\n",
    "            \"MESSAGEUPDATED\",\n",
    "            \"MEETINGDETAIL\",\n",
    "            \"MEMBERREMOVED\",\n",
    "            \"TEAMSSESSIONSTARTED\",\n",
    "            \"MESSAGEDELETED\",\n",
    "            \"MEMBERADDED\",\n",
    "            \"APPINSTALLED\",\n",
    "            \"MEMBERROLECHANGED\",\n",
    "            \"VIEWEDAPPROVALREQUEST\"\n",
    "        ]\n",
    "    }\n",
    "}"
   ]
  },
  {
   "cell_type": "code",
   "execution_count": null,
   "metadata": {},
   "outputs": [],
   "source": [
    "serviceGroup, serviceGroupData = \"ONEDRIVE_SHAREPOINT\", SERVICES[\"ONEDRIVE_SHAREPOINT\"]\n",
    "\n",
    "startdate = \"01/03/23\"\n",
    "enddate = \"07/03/23\""
   ]
  },
  {
   "cell_type": "code",
   "execution_count": null,
   "metadata": {},
   "outputs": [],
   "source": [
    "XACCESSTOKEN = ''"
   ]
  },
  {
   "cell_type": "code",
   "execution_count": null,
   "metadata": {},
   "outputs": [],
   "source": [
    "startDate, endDate = generateDateAndLast7day(startdate=startdate, enddate=enddate)   \n",
    "\n",
    "activityStat_data = getActivityStat(XACCESSTOKEN=XACCESSTOKEN, SERVICES=serviceGroupData[\"query\"], startdate=startDate, enddate=endDate)\n",
    "activityStat_data = extractActivityStats(jsondata=activityStat_data)\n",
    "activityStat_data = extractAllActivityType(serviceGroup=serviceGroup, allActivityType=serviceGroupData[\"activitytype\"], data=activityStat_data)"
   ]
  },
  {
   "cell_type": "code",
   "execution_count": null,
   "metadata": {},
   "outputs": [],
   "source": [
    "activityStat_data = pd.DataFrame(activityStat_data)\n",
    "activityStat_data"
   ]
  },
  {
   "cell_type": "code",
   "execution_count": null,
   "metadata": {},
   "outputs": [],
   "source": []
  },
  {
   "cell_type": "markdown",
   "metadata": {},
   "source": [
    "### Sensitive Database Zone\n",
    "Remove Credential All Time"
   ]
  },
  {
   "cell_type": "code",
   "execution_count": null,
   "metadata": {},
   "outputs": [],
   "source": [
    "host = \"\"\n",
    "username = \"\"\n",
    "password = \"\" \n",
    "database = \"\""
   ]
  },
  {
   "cell_type": "code",
   "execution_count": null,
   "metadata": {},
   "outputs": [],
   "source": [
    "def connectDB() -> object:\n",
    "    try:\n",
    "        dataBase = mysql.connector.connect(\n",
    "            host = host,\n",
    "            user = base64.b64decode(username).decode(\"utf-8\", \"ignore\"),\n",
    "            passwd = base64.b64decode(password).decode(\"utf-8\", \"ignore\"),\n",
    "            database = database,\n",
    "            port = '3306',\n",
    "            ssl_disabled = True\n",
    "        )\n",
    "        if dataBase.is_connected():\n",
    "            return dataBase\n",
    "    except mysql.connector.Error as err:\n",
    "        if err.errno == errorcode.ER_ACCESS_DENIED_ERROR:\n",
    "            print(\"Something is wrong with your user name or password\")\n",
    "        elif err.errno == errorcode.ER_BAD_DB_ERROR:\n",
    "            print(\"Database does not exist\")\n",
    "        else:\n",
    "            print(err)\n",
    "    sys.exit()"
   ]
  },
  {
   "cell_type": "code",
   "execution_count": null,
   "metadata": {},
   "outputs": [],
   "source": [
    "def generatePeriodDate(startdate: None, enddate: None) -> object:\n",
    "    # Get date\n",
    "    startDate = datetime.datetime.strptime(startdate, '%d/%m/%y')\n",
    "    endDate = datetime.datetime.strptime(enddate, '%d/%m/%y')\n",
    "\n",
    "    # # Convert date to timestamp\n",
    "    startDate = startDate.strftime('%y%m%d')\n",
    "    endDate = endDate.strftime('%y%m%d')\n",
    "\n",
    "    return f\"{startDate}TO{endDate}\""
   ]
  },
  {
   "cell_type": "code",
   "execution_count": null,
   "metadata": {},
   "outputs": [],
   "source": [
    "def appendCASBActivityToDB(XACCESSTOKEN: str, startdate: None, enddate: None) -> None:\n",
    "    startDate, endDate = generateDateAndLast7day(startdate=startdate, enddate=enddate)   \n",
    "\n",
    "    activityStat_data = getActivityStat(XACCESSTOKEN=XACCESSTOKEN, SERVICES=serviceGroupData[\"query\"], startdate=startDate, enddate=endDate)\n",
    "    activityStat_data = extractActivityStats(jsondata=activityStat_data)\n",
    "    activityStat_data = extractAllActivityType(serviceGroup=serviceGroup, allActivityType=serviceGroupData[\"activitytype\"], data=activityStat_data)\n",
    "    \n",
    "    periodDate = generatePeriodDate(startdate=startdate, enddate=enddate)\n",
    "\n",
    "    dataBase = self.connectDB()\n",
    "    dataBaseCursor = dataBase.cursor()\n",
    "\n",
    "    add_activity = (\"INSERT INTO user_activity(service, label, name, count, period)\"\n",
    "                   \"VALUES (%s, %s, %s, %s, %s)\")\n",
    "\n",
    "    activitiesDatasforInsert = [(s[\"service\"], s[\"label\"], s[\"name\"], s[\"count\"], periodDate) for s in serviceGroupsAllActivityStat]\n",
    "    # print(activitiesDatasforInsert)\n",
    "\n",
    "    dataBaseCursor.executemany(add_activity, activitiesDatasforInsert)\n",
    "    dataBase.commit()\n",
    "\n",
    "    dataBaseCursor.close()\n",
    "    dataBase.close()"
   ]
  },
  {
   "cell_type": "code",
   "execution_count": null,
   "metadata": {},
   "outputs": [],
   "source": [
    "def getActivityDBbySelectedPeriod(selectedPeriod: []):\n",
    "    dataBase = connectDB()\n",
    "    dataBaseCursor = dataBase.cursor()\n",
    "\n",
    "    format_strings = ','.join(['%s'] * len(selectedPeriod))\n",
    "\n",
    "    query = (\"SELECT * FROM user_activity \"\n",
    "            \"WHERE period IN (%s)\" % format_strings)\n",
    "\n",
    "    dataBaseCursor.execute(query, tuple(selectedPeriod))\n",
    "\n",
    "    data = [a for a in dataBaseCursor]\n",
    "\n",
    "    dataBaseCursor.close()\n",
    "    dataBase.close()\n",
    "    \n",
    "    return data"
   ]
  },
  {
   "cell_type": "code",
   "execution_count": null,
   "metadata": {},
   "outputs": [],
   "source": [
    "def generateSelected5PeriodDate(startdate: None, enddate: None) -> object:\n",
    "    # Get date\n",
    "    startDate = datetime.datetime.strptime(startdate, '%d/%m/%y')\n",
    "    endDate = datetime.datetime.strptime(enddate, '%d/%m/%y')\n",
    "\n",
    "    # Convert date to timestamp\n",
    "    startDate_str = startDate.strftime('%y%m%d')\n",
    "    endDate_str = endDate.strftime('%y%m%d')\n",
    "\n",
    "    selectedPeriod = [f\"{startDate_str}TO{endDate_str}\"]\n",
    "    \n",
    "    for i in range(1, 5):\n",
    "        startDate = startDate - datetime.timedelta(days=7)\n",
    "        endDate = endDate - datetime.timedelta(days=7)\n",
    "        \n",
    "         # Convert date to timestamp\n",
    "        startDate_str = startDate.strftime('%y%m%d')\n",
    "        endDate_str = endDate.strftime('%y%m%d')\n",
    "\n",
    "        selectedPeriod.append(f\"{startDate_str}TO{endDate_str}\")\n",
    "    return selectedPeriod"
   ]
  },
  {
   "cell_type": "code",
   "execution_count": null,
   "metadata": {},
   "outputs": [],
   "source": [
    "selectedPeriod = generateSelected5PeriodDate(startdate=startdate, enddate=enddate)\n",
    "selectedPeriod = selectedPeriod[::-1]\n",
    "selectedPeriod"
   ]
  },
  {
   "cell_type": "code",
   "execution_count": null,
   "metadata": {},
   "outputs": [],
   "source": [
    "import matplotlib\n",
    "import matplotlib.pyplot as plt\n",
    "from matplotlib.backends.backend_pdf import PdfPages"
   ]
  },
  {
   "cell_type": "code",
   "execution_count": null,
   "metadata": {},
   "outputs": [],
   "source": [
    "activities = getActivityDBbySelectedPeriod(selectedPeriod=selectedPeriod)\n",
    "activities = pd.DataFrame(activities, columns =['id', \"service\", \"label\", \"name\", \"count\", \"period\"])\n",
    "activities[\"count\"] = activities[\"count\"].astype(int)\n",
    "activities"
   ]
  },
  {
   "cell_type": "code",
   "execution_count": null,
   "metadata": {},
   "outputs": [],
   "source": [
    "for serviceGroup, serviceGroupData in SERVICES.items():\n",
    "    print(serviceGroup)\n",
    "    \n",
    "    payloadPlot = {}\n",
    "    for activityType in serviceGroupData['activitytype']:\n",
    "        selectdAcitivity = list(activities[(activities[\"service\"]==serviceGroup) & (activities[\"label\"]==activityType)][\"count\"])\n",
    "        payloadPlot[activityType] = selectdAcitivity\n",
    "    #     payloadPlot[activityType] = pd.DataFrame({activityType: selectdAcitivity}, index=selectedPeriod)\n",
    "\n",
    "    dfForPlot = pd.DataFrame(payloadPlot, index=selectedPeriod)\n",
    "    dfForPlot.plot.line(title=serviceGroup, subplots=True, grid=True, sharey=False, sharex=False, legend=True, layout=(5,4), figsize=(35,15))\n",
    "    plt.savefig(f'{serviceGroup}.jpg')"
   ]
  },
  {
   "cell_type": "code",
   "execution_count": null,
   "metadata": {},
   "outputs": [],
   "source": [
    "plt.get_fignums()"
   ]
  },
  {
   "cell_type": "code",
   "execution_count": null,
   "metadata": {},
   "outputs": [],
   "source": []
  },
  {
   "cell_type": "code",
   "execution_count": null,
   "metadata": {},
   "outputs": [],
   "source": []
  },
  {
   "cell_type": "code",
   "execution_count": null,
   "metadata": {},
   "outputs": [],
   "source": []
  },
  {
   "cell_type": "code",
   "execution_count": null,
   "metadata": {},
   "outputs": [],
   "source": []
  },
  {
   "cell_type": "code",
   "execution_count": null,
   "metadata": {},
   "outputs": [],
   "source": []
  },
  {
   "cell_type": "code",
   "execution_count": null,
   "metadata": {},
   "outputs": [],
   "source": []
  }
 ],
 "metadata": {
  "kernelspec": {
   "display_name": "Python 3",
   "language": "python",
   "name": "python3"
  },
  "language_info": {
   "codemirror_mode": {
    "name": "ipython",
    "version": 3
   },
   "file_extension": ".py",
   "mimetype": "text/x-python",
   "name": "python",
   "nbconvert_exporter": "python",
   "pygments_lexer": "ipython3",
   "version": "3.8.8"
  }
 },
 "nbformat": 4,
 "nbformat_minor": 4
}
