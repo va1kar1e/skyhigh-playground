{
 "cells": [
  {
   "cell_type": "markdown",
   "metadata": {},
   "source": [
    "# Data Query"
   ]
  },
  {
   "cell_type": "code",
   "execution_count": null,
   "metadata": {},
   "outputs": [],
   "source": [
    "import os, json\n",
    "import requests\n",
    "import pandas as pd\n",
    "import pprint as pp\n",
    "from dotenv import load_dotenv\n",
    "load_dotenv()"
   ]
  },
  {
   "cell_type": "code",
   "execution_count": null,
   "metadata": {},
   "outputs": [],
   "source": [
    "BASE_URL = os.getenv(\"MYSHYN_URL\")\n",
    "\n",
    "TENANT_ID = os.getenv(\"MYSHYN_TENANT_ID\")\n",
    "\n",
    "USERNAME = os.getenv(\"MYSHYN_USERNAME\")\n",
    "PASSWORD = os.getenv(\"MYSHYN_PASSWORD\")"
   ]
  },
  {
   "cell_type": "markdown",
   "metadata": {},
   "source": [
    "## Search for high-risk services by Risk Scores"
   ]
  },
  {
   "cell_type": "code",
   "execution_count": null,
   "metadata": {
    "scrolled": true
   },
   "outputs": [],
   "source": [
    "HEADER = {\n",
    "    'Content-Type': 'application/json',\n",
    "}\n",
    "\n",
    "# high risk score\n",
    "\n",
    "riskscores = [7, 8, 9]\n",
    "\n",
    "HEADER, riskscores"
   ]
  },
  {
   "cell_type": "code",
   "execution_count": null,
   "metadata": {},
   "outputs": [],
   "source": [
    "endpointServiceName = 'queryCloudServiceProviderByRisk'"
   ]
  },
  {
   "cell_type": "code",
   "execution_count": null,
   "metadata": {},
   "outputs": [],
   "source": [
    "url = BASE_URL + '/shnapi/rest/reporting/csv/' + str(endpointServiceName)\n",
    "print(\"URL  : \" + url)\n",
    "r = requests.post(url, headers=HEADER, data=json.dumps(riskscores).encode(\"utf-8\"), auth=(USERNAME,PASSWORD))\n",
    "r.status_code"
   ]
  },
  {
   "cell_type": "code",
   "execution_count": null,
   "metadata": {},
   "outputs": [],
   "source": [
    "highRiskServices = r.json()\n",
    "len(highRiskServices)"
   ]
  },
  {
   "cell_type": "code",
   "execution_count": null,
   "metadata": {},
   "outputs": [],
   "source": [
    "highRiskServices"
   ]
  },
  {
   "cell_type": "code",
   "execution_count": null,
   "metadata": {},
   "outputs": [],
   "source": [
    "cspIds = list(highRiskServices.keys())"
   ]
  },
  {
   "cell_type": "code",
   "execution_count": null,
   "metadata": {},
   "outputs": [],
   "source": [
    "cspIds"
   ]
  },
  {
   "cell_type": "code",
   "execution_count": null,
   "metadata": {},
   "outputs": [],
   "source": []
  },
  {
   "cell_type": "markdown",
   "metadata": {},
   "source": [
    "## Search for users who access or attempt to access these high-risk services by CspId"
   ]
  },
  {
   "cell_type": "markdown",
   "metadata": {},
   "source": [
    "Get All CspIds from Search for high-risk services by Risk Scores"
   ]
  },
  {
   "cell_type": "code",
   "execution_count": null,
   "metadata": {},
   "outputs": [],
   "source": [
    "HEADER = {\n",
    "    'Content-Type': 'application/json',\n",
    "}\n",
    "\n",
    "PARAM = {\n",
    "}\n",
    "\n",
    "index = cspIds.index('34827')\n",
    "BODY = {\n",
    "    \"cspId\": cspIds[index]\n",
    "}\n",
    "\n",
    "HEADER, cspId, highRiskServices[cspIds[index]]"
   ]
  },
  {
   "cell_type": "code",
   "execution_count": null,
   "metadata": {},
   "outputs": [],
   "source": [
    "endpointServiceName = 'queryUniqueUsers'"
   ]
  },
  {
   "cell_type": "code",
   "execution_count": null,
   "metadata": {},
   "outputs": [],
   "source": [
    "url = BASE_URL + '/shnapi/rest/reporting/csv/' + str(endpointServiceName)\n",
    "print(\"URL  : \" + url)\n",
    "r = requests.post(url, headers=HEADER, params=PARAM, data=json.dumps(BODY).encode(\"utf-8\"), auth=(USERNAME,PASSWORD))\n",
    "r.status_code"
   ]
  },
  {
   "cell_type": "code",
   "execution_count": null,
   "metadata": {},
   "outputs": [],
   "source": [
    "res = [res.split(\",\") for res in r.text.split('\\n')]\n",
    "res_df = pd.DataFrame(data=res[1:], columns=res[0]).dropna()\n",
    "\n",
    "columnToInt = ['usageCount', 'outbound', 'inbound', 'Upload count', 'Upload data', 'Allowed Data', 'Denied Data', 'Allowed Request', 'Denied Request']\n",
    "res_df[columnToInt] = res_df[columnToInt].apply(pd.to_numeric, errors='coerce')\n",
    "\n",
    "columnToDatetime = ['Last Activity']\n",
    "res_df[columnToDatetime] = res_df[columnToDatetime].apply(pd.to_datetime, errors='coerce')\n",
    "\n",
    "# res_df.dtypes, res_df.columns"
   ]
  },
  {
   "cell_type": "code",
   "execution_count": null,
   "metadata": {},
   "outputs": [],
   "source": [
    "res_df.sort_values(\"usageCount\", ascending = False).head(10)"
   ]
  },
  {
   "cell_type": "code",
   "execution_count": null,
   "metadata": {},
   "outputs": [],
   "source": []
  },
  {
   "cell_type": "markdown",
   "metadata": {},
   "source": [
    "## The Allow/Deny Statistics Report returns information about the traffic decisioning for a specified Cloud Service Provider."
   ]
  },
  {
   "cell_type": "code",
   "execution_count": null,
   "metadata": {},
   "outputs": [],
   "source": [
    "HEADER = {\n",
    "    'Content-Type': 'application/json',\n",
    "}\n",
    "\n",
    "PARAM = {\n",
    "}\n",
    "\n",
    "index = cspIds.index('34827')\n",
    "BODY = {\n",
    "    \"cspId\": cspIds[index]\n",
    "}\n",
    "\n",
    "HEADER, cspId, highRiskServices[cspIds[index]]"
   ]
  },
  {
   "cell_type": "code",
   "execution_count": null,
   "metadata": {},
   "outputs": [],
   "source": [
    "endpointServiceName = 'queryAllowDenyStatistics'"
   ]
  },
  {
   "cell_type": "code",
   "execution_count": null,
   "metadata": {},
   "outputs": [],
   "source": [
    "url = BASE_URL + '/shnapi/rest/reporting/csv/' + str(endpointServiceName)\n",
    "print(\"URL  : \" + url)\n",
    "r = requests.post(url, headers=HEADER, params=PARAM, data=json.dumps(BODY).encode(\"utf-8\"), auth=(USERNAME,PASSWORD))\n",
    "r.status_code"
   ]
  },
  {
   "cell_type": "code",
   "execution_count": null,
   "metadata": {},
   "outputs": [],
   "source": [
    "res = [res.split(\",\") for res in r.text.split('\\n')]\n",
    "res_df = pd.DataFrame(data=res[1:], columns=res[0]).dropna()\n",
    "\n",
    "columnToInt = ['Allowed%', 'Allowed vs Denied (0..1)', 'Denied%', 'OutboundVolume (bytes)', 'InboundVolume (bytes)', 'Total access to service']\n",
    "res_df[columnToInt] = res_df[columnToInt].apply(pd.to_numeric, errors='coerce')\n",
    "\n",
    "# res_df.dtypes, res_df.columns"
   ]
  },
  {
   "cell_type": "code",
   "execution_count": null,
   "metadata": {},
   "outputs": [],
   "source": [
    "res_df.sort_values([\"Total access to service\", \"OutboundVolume (bytes)\"], ascending = False).head(10)"
   ]
  },
  {
   "cell_type": "code",
   "execution_count": null,
   "metadata": {},
   "outputs": [],
   "source": []
  },
  {
   "cell_type": "markdown",
   "metadata": {},
   "source": [
    "## The service identifiers for the cloud services"
   ]
  },
  {
   "cell_type": "markdown",
   "metadata": {},
   "source": [
    "The Per Service Counts report returns list of Cloud Services detected by your deployment. This is equivalent to the CSV report generated in the Services page in Skyhigh CASB."
   ]
  },
  {
   "cell_type": "code",
   "execution_count": null,
   "metadata": {},
   "outputs": [],
   "source": [
    "HEADER = {\n",
    "    'Content-Type': 'application/json',\n",
    "}\n",
    "\n",
    "PARAM = {\n",
    "    \"tenantId\": TENANT_ID\n",
    "}\n",
    "\n",
    "BODY = {\n",
    "    \"tableVisibilityMap\":{\n",
    "#         \"Service Name\" : True,\n",
    "#         \"Category\" : True,\n",
    "#         \"Risk\"  :True,\n",
    "#         \"Access Count\" : True,\n",
    "#         \"Outbound\" : True,\n",
    "#         \"Inbound\" : True,\n",
    "#         \"Upload Count\" : True,\n",
    "#         \"Upload Data\" : True,\n",
    "#         \"Users\" : True,\n",
    "#         \"Allowed\" : True,\n",
    "#         \"Denied\" : True\n",
    "    },\n",
    "     \"eventFilter\": {}\n",
    "}\n",
    "\n",
    "HEADER, PARAM, BODY"
   ]
  },
  {
   "cell_type": "code",
   "execution_count": null,
   "metadata": {},
   "outputs": [],
   "source": [
    "endpointServiceName = 'queryPerServiceCounts'"
   ]
  },
  {
   "cell_type": "code",
   "execution_count": null,
   "metadata": {},
   "outputs": [],
   "source": [
    "url = BASE_URL + '/shnapi/rest/reporting/csv/' + str(endpointServiceName)\n",
    "print(\"URL  : \" + url)\n",
    "r = requests.post(url, headers=HEADER, params=PARAM, data=json.dumps(BODY).encode(\"utf-8\"), auth=(USERNAME,PASSWORD))\n",
    "r.status_code"
   ]
  },
  {
   "cell_type": "code",
   "execution_count": null,
   "metadata": {},
   "outputs": [],
   "source": [
    "res = [res.split(\",\") for res in r.text.split('\\n')]\n",
    "res_df = pd.DataFrame(data=res[1:], columns=res[0]).dropna()\n",
    "\n",
    "columnToInt = ['Risk', 'Access Count', 'Outbound', 'Inbound', 'Upload Count', 'Upload Data', 'Users', 'Allowed', 'Denied', 'Allowed Data', 'Denied Data', 'Total Data']\n",
    "res_df[columnToInt] = res_df[columnToInt].apply(pd.to_numeric, errors='coerce')\n",
    "\n",
    "columnToDatetime = ['ServiceFirstUsed', 'ServiceLastUsed']\n",
    "res_df[columnToDatetime] = res_df[columnToDatetime].apply(pd.to_datetime, errors='coerce')\n",
    "\n",
    "# res_df.dtypes, res_df"
   ]
  },
  {
   "cell_type": "code",
   "execution_count": null,
   "metadata": {},
   "outputs": [],
   "source": [
    "res_df[res_df[\"Risk\"]>6].sort_values(\"Access Count\", ascending = False).head(10)"
   ]
  },
  {
   "cell_type": "code",
   "execution_count": null,
   "metadata": {},
   "outputs": [],
   "source": []
  },
  {
   "cell_type": "markdown",
   "metadata": {},
   "source": [
    "## Get Cloud Service Provider ID in Category"
   ]
  },
  {
   "cell_type": "code",
   "execution_count": null,
   "metadata": {},
   "outputs": [],
   "source": [
    "url = BASE_URL + '/shnapi/rest/cspCategoryInfo/active/true'\n",
    "print(\"URL  : \" + url)\n",
    "r = requests.get(url, headers=HEADER, params={}, data={}, auth=(USERNAME,PASSWORD))\n",
    "r.status_code"
   ]
  },
  {
   "cell_type": "code",
   "execution_count": null,
   "metadata": {},
   "outputs": [],
   "source": [
    "r.json()"
   ]
  },
  {
   "cell_type": "markdown",
   "metadata": {},
   "source": [
    "filter by category"
   ]
  },
  {
   "cell_type": "code",
   "execution_count": null,
   "metadata": {},
   "outputs": [],
   "source": [
    "url = BASE_URL + '/shnapi/rest/cspCategoryInfo/catName/Cloud Storage'\n",
    "print(\"URL  : \" + url)\n",
    "r = requests.get(url, headers=HEADER, params={}, data={}, auth=(USERNAME,PASSWORD))\n",
    "r.status_code"
   ]
  },
  {
   "cell_type": "code",
   "execution_count": null,
   "metadata": {},
   "outputs": [],
   "source": [
    "r.json()"
   ]
  },
  {
   "cell_type": "code",
   "execution_count": null,
   "metadata": {},
   "outputs": [],
   "source": []
  },
  {
   "cell_type": "markdown",
   "metadata": {},
   "source": [
    "## Anomalies"
   ]
  },
  {
   "cell_type": "code",
   "execution_count": null,
   "metadata": {},
   "outputs": [],
   "source": [
    "HEADER = {\n",
    "    'Content-Type': 'application/json',\n",
    "}\n",
    "\n",
    "BODY = {\n",
    "    \"templateId\": 10,\n",
    "    \"serviceidentifiers\": [\"sharepoint\",\"onedrive\",\"exchange online\"]\n",
    "}\n",
    "\n",
    "HEADER, PARAM, BODY"
   ]
  },
  {
   "cell_type": "code",
   "execution_count": null,
   "metadata": {},
   "outputs": [],
   "source": [
    "url = BASE_URL + '/shnapi/rest/reporting/csv/queryAnomalies'\n",
    "print(\"URL  : \" + url)\n",
    "r = requests.post(url, headers=HEADER, params={}, data=json.dumps(BODY).encode(\"utf-8\"), auth=(USERNAME,PASSWORD))\n",
    "r.status_code"
   ]
  },
  {
   "cell_type": "code",
   "execution_count": null,
   "metadata": {},
   "outputs": [],
   "source": [
    "res = [res.split(\",\") for res in r.text.split('\\n')]\n",
    "res_df = pd.DataFrame(data=res[1:], columns=res[0])#.dropna()"
   ]
  },
  {
   "cell_type": "code",
   "execution_count": null,
   "metadata": {},
   "outputs": [],
   "source": [
    "res_df[res_df[\"Severity\"]==\"High\"]"
   ]
  },
  {
   "cell_type": "code",
   "execution_count": null,
   "metadata": {},
   "outputs": [],
   "source": []
  },
  {
   "cell_type": "code",
   "execution_count": null,
   "metadata": {},
   "outputs": [],
   "source": []
  },
  {
   "cell_type": "code",
   "execution_count": null,
   "metadata": {},
   "outputs": [],
   "source": []
  },
  {
   "cell_type": "code",
   "execution_count": null,
   "metadata": {},
   "outputs": [],
   "source": []
  },
  {
   "cell_type": "code",
   "execution_count": null,
   "metadata": {},
   "outputs": [],
   "source": []
  },
  {
   "cell_type": "code",
   "execution_count": null,
   "metadata": {},
   "outputs": [],
   "source": []
  },
  {
   "cell_type": "code",
   "execution_count": null,
   "metadata": {},
   "outputs": [],
   "source": []
  }
 ],
 "metadata": {
  "kernelspec": {
   "display_name": "Python 3",
   "language": "python",
   "name": "python3"
  },
  "language_info": {
   "codemirror_mode": {
    "name": "ipython",
    "version": 3
   },
   "file_extension": ".py",
   "mimetype": "text/x-python",
   "name": "python",
   "nbconvert_exporter": "python",
   "pygments_lexer": "ipython3",
   "version": "3.8.3"
  }
 },
 "nbformat": 4,
 "nbformat_minor": 4
}
